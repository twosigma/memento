{
 "cells": [
  {
   "cell_type": "markdown",
   "id": "7fd0a68d-08b1-4e51-91fe-7b6a28b3e9e1",
   "metadata": {},
   "source": [
    "# Memento Demo"
   ]
  },
  {
   "cell_type": "markdown",
   "id": "154a348b-b553-4901-9cd0-b8af1e68f834",
   "metadata": {},
   "source": [
    "## Imports"
   ]
  },
  {
   "cell_type": "code",
   "execution_count": 1,
   "id": "1448051e-c0f0-4a60-8d51-5d2ba6d644ef",
   "metadata": {},
   "outputs": [],
   "source": [
    "from twosigma.memento import memento_function\n",
    "import time"
   ]
  },
  {
   "cell_type": "markdown",
   "id": "b69fe0fe-365f-401b-9d26-8b435ec20bb0",
   "metadata": {},
   "source": [
    "## Set up a Demo Sandbox (not normally necessary)\n",
    "Expand and run this section if you wish to sandbox and reset the memoization state"
   ]
  },
  {
   "cell_type": "code",
   "execution_count": 2,
   "id": "a6bccc0c-1760-4270-882c-964e10c2c39e",
   "metadata": {},
   "outputs": [],
   "source": [
    "from twosigma.memento import list_memoized_functions, Environment, ConfigurationRepository, forget_cluster\n",
    "import os\n",
    "from pathlib import Path\n",
    "\n",
    "demo_home = f\"{os.path.expanduser('~')}/.memento/env/memento_demo\"\n",
    "Path.mkdir(Path(demo_home), parents=True, exist_ok=True)\n",
    "Environment.set({\"name\": \"memento_demo\", \"base_dir\": demo_home})"
   ]
  },
  {
   "cell_type": "code",
   "execution_count": 3,
   "id": "6c6b03ad-3821-4573-bc95-39bf301ff8a2",
   "metadata": {},
   "outputs": [],
   "source": [
    "forget_cluster()"
   ]
  },
  {
   "cell_type": "markdown",
   "id": "52ee7606-0061-4e11-9c7d-ec065decf522",
   "metadata": {},
   "source": [
    "## Hello, World\n",
    "This demo shows caching in action. The function `hello` has an artificial 1 second delay which is clearly run the first time it encounters the \"hello\" input but not the second.\n",
    "\n",
    "Calling the function with a different input incurs the delay again, as it is a unique computation."
   ]
  },
  {
   "cell_type": "code",
   "execution_count": 4,
   "id": "0769dd65-0613-4f11-ad52-dc6d350f67c5",
   "metadata": {},
   "outputs": [],
   "source": [
    "@memento_function\n",
    "def hello(n: str) -> str:\n",
    "    print(f\"Calculating for {n}...\")\n",
    "    time.sleep(1)\n",
    "    return f\"hello, {n}!\""
   ]
  },
  {
   "cell_type": "code",
   "execution_count": 5,
   "id": "013530f7-9d70-48fe-b423-a3c5d1d902ee",
   "metadata": {},
   "outputs": [
    {
     "name": "stdout",
     "output_type": "stream",
     "text": [
      "Calculating for world...\n"
     ]
    },
    {
     "data": {
      "text/plain": [
       "'hello, world!'"
      ]
     },
     "execution_count": 5,
     "metadata": {},
     "output_type": "execute_result"
    }
   ],
   "source": [
    "hello(\"world\")"
   ]
  },
  {
   "cell_type": "code",
   "execution_count": 6,
   "id": "96b4f5b5-fcb7-4658-9b61-3bebb1207470",
   "metadata": {},
   "outputs": [
    {
     "data": {
      "text/plain": [
       "'hello, world!'"
      ]
     },
     "execution_count": 6,
     "metadata": {},
     "output_type": "execute_result"
    }
   ],
   "source": [
    "hello(\"world\")"
   ]
  },
  {
   "cell_type": "code",
   "execution_count": 7,
   "id": "85948e2d-29d3-4cc5-8b94-1409ed2c6b03",
   "metadata": {},
   "outputs": [
    {
     "name": "stdout",
     "output_type": "stream",
     "text": [
      "Calculating for there...\n"
     ]
    },
    {
     "data": {
      "text/plain": [
       "'hello, there!'"
      ]
     },
     "execution_count": 7,
     "metadata": {},
     "output_type": "execute_result"
    }
   ],
   "source": [
    "hello(\"there\")"
   ]
  },
  {
   "cell_type": "markdown",
   "id": "3bc6194e-b4d8-4891-84fc-60b76c38542f",
   "metadata": {},
   "source": [
    "Memento calculates a version of the function"
   ]
  },
  {
   "cell_type": "code",
   "execution_count": 8,
   "id": "bce812f3-e320-427b-84f9-366ced01206d",
   "metadata": {},
   "outputs": [
    {
     "data": {
      "text/plain": [
       "'a3170059eeed6797'"
      ]
     },
     "execution_count": 8,
     "metadata": {},
     "output_type": "execute_result"
    }
   ],
   "source": [
    "v1 = hello.version()\n",
    "v1"
   ]
  },
  {
   "cell_type": "markdown",
   "id": "923b9a99-becc-4845-b431-6796a6bc99e8",
   "metadata": {},
   "source": [
    "If we change the function, the version changes:"
   ]
  },
  {
   "cell_type": "code",
   "execution_count": 9,
   "id": "9bc35c5f-298e-4ed3-97f2-8f99658d275a",
   "metadata": {},
   "outputs": [],
   "source": [
    "@memento_function\n",
    "def hello(n: str) -> str:\n",
    "    print(f\"Calculating for {n}...\")\n",
    "    time.sleep(1)\n",
    "    return f\"Hello, {n.title()}!\"  # Hello is captialized, and we use the title case for n as well"
   ]
  },
  {
   "cell_type": "code",
   "execution_count": 10,
   "id": "c7bd455d-f3f8-4dbe-990e-caa8a13ff83b",
   "metadata": {},
   "outputs": [
    {
     "data": {
      "text/plain": [
       "'4b2ee18534d039f7'"
      ]
     },
     "execution_count": 10,
     "metadata": {},
     "output_type": "execute_result"
    }
   ],
   "source": [
    "v2 = hello.version()\n",
    "v2"
   ]
  },
  {
   "cell_type": "code",
   "execution_count": 11,
   "id": "324355f0-6f25-4a32-aeaf-cf75bf8b74ab",
   "metadata": {},
   "outputs": [
    {
     "name": "stdout",
     "output_type": "stream",
     "text": [
      "Calculating for world...\n"
     ]
    },
    {
     "data": {
      "text/plain": [
       "'Hello, World!'"
      ]
     },
     "execution_count": 11,
     "metadata": {},
     "output_type": "execute_result"
    }
   ],
   "source": [
    "hello(\"world\")"
   ]
  },
  {
   "cell_type": "markdown",
   "id": "a7ff5c03-9093-4965-a15c-4144a8c9796a",
   "metadata": {},
   "source": [
    "Now, if we change it back, the version goes back to what it was before"
   ]
  },
  {
   "cell_type": "code",
   "execution_count": 12,
   "id": "8cb1c3a4-efcb-458d-ac08-36e8397cc728",
   "metadata": {},
   "outputs": [],
   "source": [
    "@memento_function\n",
    "def hello(n: str) -> str:\n",
    "    print(f\"Calculating for {n}...\")\n",
    "    time.sleep(1)\n",
    "    return f\"hello, {n}!\""
   ]
  },
  {
   "cell_type": "code",
   "execution_count": 13,
   "id": "68f822c6-6c0a-4ab5-ab92-ee96b1223700",
   "metadata": {},
   "outputs": [
    {
     "data": {
      "text/plain": [
       "'a3170059eeed6797'"
      ]
     },
     "execution_count": 13,
     "metadata": {},
     "output_type": "execute_result"
    }
   ],
   "source": [
    "v3 = hello.version()\n",
    "v3"
   ]
  },
  {
   "cell_type": "code",
   "execution_count": 14,
   "id": "19465222-8fa4-4382-bef0-fc9d89fa7f6e",
   "metadata": {},
   "outputs": [
    {
     "data": {
      "text/plain": [
       "True"
      ]
     },
     "execution_count": 14,
     "metadata": {},
     "output_type": "execute_result"
    }
   ],
   "source": [
    "v3 == v1"
   ]
  },
  {
   "cell_type": "markdown",
   "id": "eb70dbc9-dd33-476a-a16b-189f196e1cff",
   "metadata": {
    "jp-MarkdownHeadingCollapsed": true
   },
   "source": [
    "## Double and Add\n",
    "This demo shows three functions, `increment(x)`, `double(x)`, and `increment_and_double(x)`"
   ]
  },
  {
   "cell_type": "code",
   "execution_count": 15,
   "id": "66f681dc-d8db-413d-9a6c-b6cb1f68f4db",
   "metadata": {},
   "outputs": [],
   "source": [
    "@memento_function\n",
    "def increment(x):\n",
    "    print(f\"increment({x})\")\n",
    "    return x + 1\n",
    "\n",
    "@memento_function\n",
    "def double(x):\n",
    "    print(f\"double({x})\")\n",
    "    return x * 2\n",
    "\n",
    "@memento_function\n",
    "def increment_and_double(x):\n",
    "    print(f\"increment_and_double({x})\")\n",
    "    return double(increment(x))"
   ]
  },
  {
   "cell_type": "markdown",
   "id": "e727b85f-6e82-464d-b478-15b186ecea8e",
   "metadata": {},
   "source": [
    "Basic usage"
   ]
  },
  {
   "cell_type": "code",
   "execution_count": 16,
   "id": "657c2175-ffa8-47ed-a5fc-beb3fe22ea34",
   "metadata": {},
   "outputs": [
    {
     "name": "stdout",
     "output_type": "stream",
     "text": [
      "increment(1)\n"
     ]
    },
    {
     "data": {
      "text/plain": [
       "2"
      ]
     },
     "execution_count": 16,
     "metadata": {},
     "output_type": "execute_result"
    }
   ],
   "source": [
    "increment(1)"
   ]
  },
  {
   "cell_type": "code",
   "execution_count": 17,
   "id": "c02cbf91-f1ed-4771-afed-ee6a58bc8400",
   "metadata": {},
   "outputs": [
    {
     "name": "stdout",
     "output_type": "stream",
     "text": [
      "double(2)\n"
     ]
    },
    {
     "data": {
      "text/plain": [
       "4"
      ]
     },
     "execution_count": 17,
     "metadata": {},
     "output_type": "execute_result"
    }
   ],
   "source": [
    "double(2)"
   ]
  },
  {
   "cell_type": "markdown",
   "id": "e83e6d17-d4ed-4dc5-8e11-04558a16fbd0",
   "metadata": {},
   "source": [
    "Now, we call increment_and_double"
   ]
  },
  {
   "cell_type": "code",
   "execution_count": 18,
   "id": "2c64ac03-fc14-41a2-9bdb-fd10182f018d",
   "metadata": {},
   "outputs": [
    {
     "name": "stdout",
     "output_type": "stream",
     "text": [
      "increment_and_double(2)\n",
      "increment(2)\n",
      "double(3)\n"
     ]
    },
    {
     "data": {
      "text/plain": [
       "6"
      ]
     },
     "execution_count": 18,
     "metadata": {},
     "output_type": "execute_result"
    }
   ],
   "source": [
    "increment_and_double(2)"
   ]
  },
  {
   "cell_type": "markdown",
   "id": "4b900e40-b298-4000-8d4b-0613ff3df04d",
   "metadata": {},
   "source": [
    "We can instruct Memento to graph the dependencies of `increment_and_double`, which it gets from static analysis of the code. This is the expected call graph (which can differ from the actual if branches are taken)."
   ]
  },
  {
   "cell_type": "code",
   "execution_count": 19,
   "id": "d37e37a6-b367-4b40-a17c-69639d389181",
   "metadata": {},
   "outputs": [
    {
     "data": {
      "text/html": [
       "<?xml version=\"1.0\" encoding=\"UTF-8\" standalone=\"no\"?>\n",
       "<!DOCTYPE svg PUBLIC \"-//W3C//DTD SVG 1.1//EN\"\n",
       " \"http://www.w3.org/Graphics/SVG/1.1/DTD/svg11.dtd\">\n",
       "<!-- Generated by graphviz version 2.43.0 (0)\n",
       " -->\n",
       "<!-- Title: %3 Pages: 1 -->\n",
       "<svg width=\"146pt\" height=\"116pt\"\n",
       " viewBox=\"0.00 0.00 146.00 116.00\" xmlns=\"http://www.w3.org/2000/svg\" xmlns:xlink=\"http://www.w3.org/1999/xlink\">\n",
       "<g id=\"graph0\" class=\"graph\" transform=\"scale(1 1) rotate(0) translate(4 112)\">\n",
       "<title>%3</title>\n",
       "<polygon fill=\"white\" stroke=\"transparent\" points=\"-4,4 -4,-112 142,-112 142,4 -4,4\"/>\n",
       "<!-- c9a1baa8 -->\n",
       "<g id=\"node1\" class=\"node\">\n",
       "<title>c9a1baa8</title>\n",
       "<polygon fill=\"none\" stroke=\"black\" points=\"130,-36 2,-36 2,0 130,0 130,-36\"/>\n",
       "<text text-anchor=\"start\" x=\"10\" y=\"-15.5\" font-family=\"Helvetica,sans-Serif\" font-size=\"10.00\">increment_and_double</text>\n",
       "</g>\n",
       "<!-- 99cd6260 -->\n",
       "<g id=\"node2\" class=\"node\">\n",
       "<title>99cd6260</title>\n",
       "<polygon fill=\"none\" stroke=\"black\" points=\"54,-108 0,-108 0,-72 54,-72 54,-108\"/>\n",
       "<text text-anchor=\"start\" x=\"10\" y=\"-87.5\" font-family=\"Helvetica,sans-Serif\" font-size=\"10.00\">double</text>\n",
       "</g>\n",
       "<!-- c9a1baa8&#45;&gt;99cd6260 -->\n",
       "<g id=\"edge1\" class=\"edge\">\n",
       "<title>c9a1baa8&#45;&gt;99cd6260</title>\n",
       "<path fill=\"none\" stroke=\"black\" d=\"M56.36,-36.3C51.87,-44.36 46.44,-54.11 41.48,-63.02\"/>\n",
       "<polygon fill=\"black\" stroke=\"black\" points=\"38.34,-61.46 36.53,-71.9 44.45,-64.86 38.34,-61.46\"/>\n",
       "</g>\n",
       "<!-- 4566a700 -->\n",
       "<g id=\"node3\" class=\"node\">\n",
       "<title>4566a700</title>\n",
       "<polygon fill=\"none\" stroke=\"black\" points=\"138,-108 72,-108 72,-72 138,-72 138,-108\"/>\n",
       "<text text-anchor=\"start\" x=\"80\" y=\"-87.5\" font-family=\"Helvetica,sans-Serif\" font-size=\"10.00\">increment</text>\n",
       "</g>\n",
       "<!-- c9a1baa8&#45;&gt;4566a700 -->\n",
       "<g id=\"edge2\" class=\"edge\">\n",
       "<title>c9a1baa8&#45;&gt;4566a700</title>\n",
       "<path fill=\"none\" stroke=\"black\" d=\"M75.64,-36.3C80.13,-44.36 85.56,-54.11 90.52,-63.02\"/>\n",
       "<polygon fill=\"black\" stroke=\"black\" points=\"87.55,-64.86 95.47,-71.9 93.66,-61.46 87.55,-64.86\"/>\n",
       "</g>\n",
       "</g>\n",
       "</svg>\n"
      ],
      "text/plain": [
       "<twosigma.memento.dependency_graph.DependencyGraph at 0x7fcaa7c99990>"
      ]
     },
     "execution_count": 19,
     "metadata": {},
     "output_type": "execute_result"
    }
   ],
   "source": [
    "increment_and_double.dependencies()"
   ]
  },
  {
   "cell_type": "markdown",
   "id": "1c5077c0-833c-40ab-8f7f-c29e1fc9bdc1",
   "metadata": {},
   "source": [
    "We can introspect on the memento (the metadata artifact recorded when we called `increment_and_double(2)`)"
   ]
  },
  {
   "cell_type": "code",
   "execution_count": 20,
   "id": "31a44896-a95d-4d56-9465-24c044a608d6",
   "metadata": {},
   "outputs": [
    {
     "data": {
      "text/plain": [
       "Memento(time=datetime.datetime(2024, 3, 31, 21, 13, 30, 18678, tzinfo=tzutc()), invocation_metadata=InvocationMetadata(fn_reference_with_args=FunctionReferenceWithArguments(fn_reference=FunctionReference('__main__:increment_and_double#eaa2b7f9012bc881', partial_args=(), partial_kwargs=None, external=False), args=(2,), kwargs={}, context_args={}), invocations=[FunctionReferenceWithArguments(fn_reference=FunctionReference('__main__:increment#b67215ccb618c9d0', partial_args=(), partial_kwargs=None, external=False), args=(2,), kwargs={}, context_args={}), FunctionReferenceWithArguments(fn_reference=FunctionReference('__main__:double#885a872da7be0a6d', partial_args=(), partial_kwargs=None, external=False), args=(3,), kwargs={}, context_args={})], runtime=datetime.timedelta(microseconds=4276), result_type=<ResultType.number: (5,)>), function_dependencies={FunctionReference('__main__:double#885a872da7be0a6d', partial_args=(), partial_kwargs=None, external=False), FunctionReference('__main__:increment#b67215ccb618c9d0', partial_args=(), partial_kwargs=None, external=False), FunctionReference('__main__:increment_and_double#eaa2b7f9012bc881', partial_args=(), partial_kwargs=None, external=False)}, runner={'type': 'local'}, correlation_id='cid_3810c7b9f91f', content_key=VersionedDataSourceKey(key='c/31068125b3d6543518fbb7ce7878b1db2ebfb1268f2af67483779f91f5c99530', version='146b29b5-3d13-495b-ac7c-418bbc1cb2cf'))"
      ]
     },
     "execution_count": 20,
     "metadata": {},
     "output_type": "execute_result"
    }
   ],
   "source": [
    "increment_and_double.memento(2)"
   ]
  },
  {
   "cell_type": "markdown",
   "id": "30f43fcf-d667-4633-8bc6-fed6f419de79",
   "metadata": {},
   "source": [
    "We can ask Memento to show what it actually observed from the call graph:"
   ]
  },
  {
   "cell_type": "code",
   "execution_count": 21,
   "id": "769c4f69-b8b3-40ea-8531-43fa4c8b8b14",
   "metadata": {},
   "outputs": [
    {
     "data": {
      "image/svg+xml": [
       "<?xml version=\"1.0\" encoding=\"UTF-8\" standalone=\"no\"?>\n",
       "<!DOCTYPE svg PUBLIC \"-//W3C//DTD SVG 1.1//EN\"\n",
       " \"http://www.w3.org/Graphics/SVG/1.1/DTD/svg11.dtd\">\n",
       "<!-- Generated by graphviz version 2.43.0 (0)\n",
       " -->\n",
       "<!-- Title: %3 Pages: 1 -->\n",
       "<svg width=\"293pt\" height=\"108pt\"\n",
       " viewBox=\"0.00 0.00 293.00 108.00\" xmlns=\"http://www.w3.org/2000/svg\" xmlns:xlink=\"http://www.w3.org/1999/xlink\">\n",
       "<g id=\"graph0\" class=\"graph\" transform=\"scale(1 1) rotate(0) translate(4 104)\">\n",
       "<title>%3</title>\n",
       "<polygon fill=\"white\" stroke=\"transparent\" points=\"-4,4 -4,-104 289,-104 289,4 -4,4\"/>\n",
       "<!-- n1 -->\n",
       "<g id=\"node1\" class=\"node\">\n",
       "<title>n1</title>\n",
       "<g id=\"a_node1\"><a xlink:title=\"increment_and_double(x=2)\">\n",
       "<polygon fill=\"none\" stroke=\"black\" points=\"155,-70 0,-70 0,-29 155,-29 155,-70\"/>\n",
       "<text text-anchor=\"middle\" x=\"77.5\" y=\"-58\" font-family=\"Helvetica,sans-Serif\" font-size=\"10.00\">increment_and_double(x=2)</text>\n",
       "<text text-anchor=\"middle\" x=\"77.5\" y=\"-47\" font-family=\"Helvetica,sans-Serif\" font-size=\"10.00\">&#45;&gt; number</text>\n",
       "<text text-anchor=\"middle\" x=\"77.5\" y=\"-36\" font-family=\"Helvetica,sans-Serif\" font-size=\"10.00\">0:00:00.004276</text>\n",
       "</a>\n",
       "</g>\n",
       "</g>\n",
       "<!-- n2 -->\n",
       "<g id=\"node2\" class=\"node\">\n",
       "<title>n2</title>\n",
       "<g id=\"a_node2\"><a xlink:title=\"increment(x=2)\">\n",
       "<polygon fill=\"none\" stroke=\"black\" points=\"285,-100 191,-100 191,-59 285,-59 285,-100\"/>\n",
       "<text text-anchor=\"middle\" x=\"238\" y=\"-88\" font-family=\"Helvetica,sans-Serif\" font-size=\"10.00\">increment(x=2)</text>\n",
       "<text text-anchor=\"middle\" x=\"238\" y=\"-77\" font-family=\"Helvetica,sans-Serif\" font-size=\"10.00\">&#45;&gt; number</text>\n",
       "<text text-anchor=\"middle\" x=\"238\" y=\"-66\" font-family=\"Helvetica,sans-Serif\" font-size=\"10.00\">0:00:00.000040</text>\n",
       "</a>\n",
       "</g>\n",
       "</g>\n",
       "<!-- n1&#45;&gt;n2 -->\n",
       "<g id=\"edge1\" class=\"edge\">\n",
       "<title>n1&#45;&gt;n2</title>\n",
       "<path fill=\"none\" stroke=\"black\" d=\"M155.4,-64.5C155.4,-64.5 180.92,-64.5 180.92,-64.5\"/>\n",
       "<polygon fill=\"black\" stroke=\"black\" points=\"180.92,-68 190.92,-64.5 180.92,-61 180.92,-68\"/>\n",
       "</g>\n",
       "<!-- n3 -->\n",
       "<g id=\"node3\" class=\"node\">\n",
       "<title>n3</title>\n",
       "<g id=\"a_node3\"><a xlink:title=\"double(x=3)\">\n",
       "<polygon fill=\"none\" stroke=\"black\" points=\"284,-41 192,-41 192,0 284,0 284,-41\"/>\n",
       "<text text-anchor=\"middle\" x=\"238\" y=\"-29\" font-family=\"Helvetica,sans-Serif\" font-size=\"10.00\">double(x=3)</text>\n",
       "<text text-anchor=\"middle\" x=\"238\" y=\"-18\" font-family=\"Helvetica,sans-Serif\" font-size=\"10.00\">&#45;&gt; number</text>\n",
       "<text text-anchor=\"middle\" x=\"238\" y=\"-7\" font-family=\"Helvetica,sans-Serif\" font-size=\"10.00\">0:00:00.000029</text>\n",
       "</a>\n",
       "</g>\n",
       "</g>\n",
       "<!-- n1&#45;&gt;n3 -->\n",
       "<g id=\"edge2\" class=\"edge\">\n",
       "<title>n1&#45;&gt;n3</title>\n",
       "<path fill=\"none\" stroke=\"black\" d=\"M155.4,-35C155.4,-35 181.8,-35 181.8,-35\"/>\n",
       "<polygon fill=\"black\" stroke=\"black\" points=\"181.8,-38.5 191.8,-35 181.8,-31.5 181.8,-38.5\"/>\n",
       "</g>\n",
       "</g>\n",
       "</svg>\n"
      ],
      "text/plain": [
       "<graphviz.graphs.Digraph at 0x7fcaa7e43dc0>"
      ]
     },
     "execution_count": 21,
     "metadata": {},
     "output_type": "execute_result"
    }
   ],
   "source": [
    "increment_and_double.memento(2).graph()"
   ]
  },
  {
   "cell_type": "markdown",
   "id": "fd6b8561-e2c4-4473-9ab7-c0a459c57033",
   "metadata": {},
   "source": [
    "## Fizz Buzz Example\n",
    "In this example, we implement Fizz Buzz, defined as follows:\n",
    "```\n",
    "Given an integer n, return a string array answer (1-indexed) where:\n",
    "\n",
    "answer[i] == \"FizzBuzz\" if i is divisible by 3 and 5.\n",
    "answer[i] == \"Fizz\" if i is divisible by 3.\n",
    "answer[i] == \"Buzz\" if i is divisible by 5.\n",
    "answer[i] == i (as a string) if none of the above conditions are true.\n",
    "```"
   ]
  },
  {
   "cell_type": "code",
   "execution_count": 22,
   "id": "13363352-3237-4e9c-bba7-0bea0c2a3af9",
   "metadata": {},
   "outputs": [],
   "source": [
    "@memento_function\n",
    "def fizz_buzz(n: int) -> list[str]:\n",
    "    print(f\"Calculating {n}\")\n",
    "    time.sleep(0.2)\n",
    "    if n == 0:\n",
    "        return []\n",
    "    answer = \"\"\n",
    "    if (n % 3) == 0:\n",
    "        answer += \"Fizz\"\n",
    "    if (n % 5) == 0:\n",
    "        answer += \"Buzz\"\n",
    "    return fizz_buzz(n-1) + [answer or str(n)]"
   ]
  },
  {
   "cell_type": "code",
   "execution_count": 23,
   "id": "d505d40f-6ffd-4478-bdca-219f2b8c83f0",
   "metadata": {},
   "outputs": [
    {
     "name": "stdout",
     "output_type": "stream",
     "text": [
      "Calculating 1\n",
      "Calculating 0\n"
     ]
    },
    {
     "data": {
      "text/plain": [
       "['1']"
      ]
     },
     "execution_count": 23,
     "metadata": {},
     "output_type": "execute_result"
    }
   ],
   "source": [
    "fizz_buzz(1)"
   ]
  },
  {
   "cell_type": "code",
   "execution_count": 24,
   "id": "c0b53630-291f-436d-83fb-c3f3b6cd012d",
   "metadata": {},
   "outputs": [
    {
     "data": {
      "text/plain": [
       "['1']"
      ]
     },
     "execution_count": 24,
     "metadata": {},
     "output_type": "execute_result"
    }
   ],
   "source": [
    "fizz_buzz(1)"
   ]
  },
  {
   "cell_type": "code",
   "execution_count": 25,
   "id": "2bdc6994-f968-4e12-8936-bef8a6702997",
   "metadata": {},
   "outputs": [
    {
     "name": "stdout",
     "output_type": "stream",
     "text": [
      "Calculating 5\n",
      "Calculating 4\n",
      "Calculating 3\n",
      "Calculating 2\n"
     ]
    },
    {
     "data": {
      "text/plain": [
       "['1', '2', 'Fizz', '4', 'Buzz']"
      ]
     },
     "execution_count": 25,
     "metadata": {},
     "output_type": "execute_result"
    }
   ],
   "source": [
    "fizz_buzz(5)"
   ]
  },
  {
   "cell_type": "code",
   "execution_count": 26,
   "id": "bc68c92a-3c53-4b62-8177-7c3c346c67c1",
   "metadata": {},
   "outputs": [
    {
     "name": "stdout",
     "output_type": "stream",
     "text": [
      "Calculating 20\n",
      "Calculating 19\n",
      "Calculating 18\n",
      "Calculating 17\n",
      "Calculating 16\n",
      "Calculating 15\n",
      "Calculating 14\n",
      "Calculating 13\n",
      "Calculating 12\n",
      "Calculating 11\n",
      "Calculating 10\n",
      "Calculating 9\n",
      "Calculating 8\n",
      "Calculating 7\n",
      "Calculating 6\n"
     ]
    },
    {
     "data": {
      "text/plain": [
       "['1',\n",
       " '2',\n",
       " 'Fizz',\n",
       " '4',\n",
       " 'Buzz',\n",
       " 'Fizz',\n",
       " '7',\n",
       " '8',\n",
       " 'Fizz',\n",
       " 'Buzz',\n",
       " '11',\n",
       " 'Fizz',\n",
       " '13',\n",
       " '14',\n",
       " 'FizzBuzz',\n",
       " '16',\n",
       " '17',\n",
       " 'Fizz',\n",
       " '19',\n",
       " 'Buzz']"
      ]
     },
     "execution_count": 26,
     "metadata": {},
     "output_type": "execute_result"
    }
   ],
   "source": [
    "fizz_buzz(20)"
   ]
  },
  {
   "cell_type": "code",
   "execution_count": 27,
   "id": "866846a5-59fd-4f30-b288-2f74ee1315f0",
   "metadata": {},
   "outputs": [],
   "source": [
    "m = fizz_buzz.memento(1)"
   ]
  },
  {
   "cell_type": "code",
   "execution_count": 28,
   "id": "52b2efec-64e8-4af6-b628-0b4155b7d031",
   "metadata": {},
   "outputs": [
    {
     "data": {
      "text/plain": [
       "[(0,),\n",
       " (1,),\n",
       " (2,),\n",
       " (3,),\n",
       " (4,),\n",
       " (5,),\n",
       " (6,),\n",
       " (7,),\n",
       " (8,),\n",
       " (9,),\n",
       " (10,),\n",
       " (11,),\n",
       " (12,),\n",
       " (13,),\n",
       " (14,),\n",
       " (15,),\n",
       " (16,),\n",
       " (17,),\n",
       " (18,),\n",
       " (19,),\n",
       " (20,)]"
      ]
     },
     "execution_count": 28,
     "metadata": {},
     "output_type": "execute_result"
    }
   ],
   "source": [
    "sorted([m.invocation_metadata.fn_reference_with_args.args for m in fizz_buzz.list_mementos()])"
   ]
  },
  {
   "cell_type": "code",
   "execution_count": 29,
   "id": "4b9f2e90-6f7a-4352-9233-9d72fe2b69a1",
   "metadata": {},
   "outputs": [
    {
     "data": {
      "image/svg+xml": [
       "<?xml version=\"1.0\" encoding=\"UTF-8\" standalone=\"no\"?>\n",
       "<!DOCTYPE svg PUBLIC \"-//W3C//DTD SVG 1.1//EN\"\n",
       " \"http://www.w3.org/Graphics/SVG/1.1/DTD/svg11.dtd\">\n",
       "<!-- Generated by graphviz version 2.43.0 (0)\n",
       " -->\n",
       "<!-- Title: %3 Pages: 1 -->\n",
       "<svg width=\"2693pt\" height=\"49pt\"\n",
       " viewBox=\"0.00 0.00 2693.00 49.00\" xmlns=\"http://www.w3.org/2000/svg\" xmlns:xlink=\"http://www.w3.org/1999/xlink\">\n",
       "<g id=\"graph0\" class=\"graph\" transform=\"scale(1 1) rotate(0) translate(4 45)\">\n",
       "<title>%3</title>\n",
       "<polygon fill=\"white\" stroke=\"transparent\" points=\"-4,4 -4,-45 2689,-45 2689,4 -4,4\"/>\n",
       "<!-- n1 -->\n",
       "<g id=\"node1\" class=\"node\">\n",
       "<title>n1</title>\n",
       "<g id=\"a_node1\"><a xlink:title=\"fizz_buzz(n=20)\">\n",
       "<polygon fill=\"none\" stroke=\"black\" points=\"95,-41 0,-41 0,0 95,0 95,-41\"/>\n",
       "<text text-anchor=\"middle\" x=\"47.5\" y=\"-29\" font-family=\"Helvetica,sans-Serif\" font-size=\"10.00\">fizz_buzz(n=20)</text>\n",
       "<text text-anchor=\"middle\" x=\"47.5\" y=\"-18\" font-family=\"Helvetica,sans-Serif\" font-size=\"10.00\">&#45;&gt; list_result</text>\n",
       "<text text-anchor=\"middle\" x=\"47.5\" y=\"-7\" font-family=\"Helvetica,sans-Serif\" font-size=\"10.00\">0:00:03.059921</text>\n",
       "</a>\n",
       "</g>\n",
       "</g>\n",
       "<!-- n2 -->\n",
       "<g id=\"node2\" class=\"node\">\n",
       "<title>n2</title>\n",
       "<g id=\"a_node2\"><a xlink:title=\"fizz_buzz(n=19)\">\n",
       "<polygon fill=\"none\" stroke=\"black\" points=\"226,-41 131,-41 131,0 226,0 226,-41\"/>\n",
       "<text text-anchor=\"middle\" x=\"178.5\" y=\"-29\" font-family=\"Helvetica,sans-Serif\" font-size=\"10.00\">fizz_buzz(n=19)</text>\n",
       "<text text-anchor=\"middle\" x=\"178.5\" y=\"-18\" font-family=\"Helvetica,sans-Serif\" font-size=\"10.00\">&#45;&gt; list_result</text>\n",
       "<text text-anchor=\"middle\" x=\"178.5\" y=\"-7\" font-family=\"Helvetica,sans-Serif\" font-size=\"10.00\">0:00:02.857348</text>\n",
       "</a>\n",
       "</g>\n",
       "</g>\n",
       "<!-- n1&#45;&gt;n2 -->\n",
       "<g id=\"edge20\" class=\"edge\">\n",
       "<title>n1&#45;&gt;n2</title>\n",
       "<path fill=\"none\" stroke=\"black\" d=\"M95.16,-20.5C95.16,-20.5 120.65,-20.5 120.65,-20.5\"/>\n",
       "<polygon fill=\"black\" stroke=\"black\" points=\"120.65,-24 130.65,-20.5 120.65,-17 120.65,-24\"/>\n",
       "</g>\n",
       "<!-- n3 -->\n",
       "<g id=\"node3\" class=\"node\">\n",
       "<title>n3</title>\n",
       "<g id=\"a_node3\"><a xlink:title=\"fizz_buzz(n=18)\">\n",
       "<polygon fill=\"none\" stroke=\"black\" points=\"357,-41 262,-41 262,0 357,0 357,-41\"/>\n",
       "<text text-anchor=\"middle\" x=\"309.5\" y=\"-29\" font-family=\"Helvetica,sans-Serif\" font-size=\"10.00\">fizz_buzz(n=18)</text>\n",
       "<text text-anchor=\"middle\" x=\"309.5\" y=\"-18\" font-family=\"Helvetica,sans-Serif\" font-size=\"10.00\">&#45;&gt; list_result</text>\n",
       "<text text-anchor=\"middle\" x=\"309.5\" y=\"-7\" font-family=\"Helvetica,sans-Serif\" font-size=\"10.00\">0:00:02.654348</text>\n",
       "</a>\n",
       "</g>\n",
       "</g>\n",
       "<!-- n2&#45;&gt;n3 -->\n",
       "<g id=\"edge19\" class=\"edge\">\n",
       "<title>n2&#45;&gt;n3</title>\n",
       "<path fill=\"none\" stroke=\"black\" d=\"M226.16,-20.5C226.16,-20.5 251.65,-20.5 251.65,-20.5\"/>\n",
       "<polygon fill=\"black\" stroke=\"black\" points=\"251.65,-24 261.65,-20.5 251.65,-17 251.65,-24\"/>\n",
       "</g>\n",
       "<!-- n4 -->\n",
       "<g id=\"node4\" class=\"node\">\n",
       "<title>n4</title>\n",
       "<g id=\"a_node4\"><a xlink:title=\"fizz_buzz(n=17)\">\n",
       "<polygon fill=\"none\" stroke=\"black\" points=\"488,-41 393,-41 393,0 488,0 488,-41\"/>\n",
       "<text text-anchor=\"middle\" x=\"440.5\" y=\"-29\" font-family=\"Helvetica,sans-Serif\" font-size=\"10.00\">fizz_buzz(n=17)</text>\n",
       "<text text-anchor=\"middle\" x=\"440.5\" y=\"-18\" font-family=\"Helvetica,sans-Serif\" font-size=\"10.00\">&#45;&gt; list_result</text>\n",
       "<text text-anchor=\"middle\" x=\"440.5\" y=\"-7\" font-family=\"Helvetica,sans-Serif\" font-size=\"10.00\">0:00:02.451883</text>\n",
       "</a>\n",
       "</g>\n",
       "</g>\n",
       "<!-- n3&#45;&gt;n4 -->\n",
       "<g id=\"edge18\" class=\"edge\">\n",
       "<title>n3&#45;&gt;n4</title>\n",
       "<path fill=\"none\" stroke=\"black\" d=\"M357.16,-20.5C357.16,-20.5 382.65,-20.5 382.65,-20.5\"/>\n",
       "<polygon fill=\"black\" stroke=\"black\" points=\"382.65,-24 392.65,-20.5 382.65,-17 382.65,-24\"/>\n",
       "</g>\n",
       "<!-- n5 -->\n",
       "<g id=\"node5\" class=\"node\">\n",
       "<title>n5</title>\n",
       "<g id=\"a_node5\"><a xlink:title=\"fizz_buzz(n=16)\">\n",
       "<polygon fill=\"none\" stroke=\"black\" points=\"619,-41 524,-41 524,0 619,0 619,-41\"/>\n",
       "<text text-anchor=\"middle\" x=\"571.5\" y=\"-29\" font-family=\"Helvetica,sans-Serif\" font-size=\"10.00\">fizz_buzz(n=16)</text>\n",
       "<text text-anchor=\"middle\" x=\"571.5\" y=\"-18\" font-family=\"Helvetica,sans-Serif\" font-size=\"10.00\">&#45;&gt; list_result</text>\n",
       "<text text-anchor=\"middle\" x=\"571.5\" y=\"-7\" font-family=\"Helvetica,sans-Serif\" font-size=\"10.00\">0:00:02.249322</text>\n",
       "</a>\n",
       "</g>\n",
       "</g>\n",
       "<!-- n4&#45;&gt;n5 -->\n",
       "<g id=\"edge17\" class=\"edge\">\n",
       "<title>n4&#45;&gt;n5</title>\n",
       "<path fill=\"none\" stroke=\"black\" d=\"M488.16,-20.5C488.16,-20.5 513.65,-20.5 513.65,-20.5\"/>\n",
       "<polygon fill=\"black\" stroke=\"black\" points=\"513.65,-24 523.65,-20.5 513.65,-17 513.65,-24\"/>\n",
       "</g>\n",
       "<!-- n6 -->\n",
       "<g id=\"node6\" class=\"node\">\n",
       "<title>n6</title>\n",
       "<g id=\"a_node6\"><a xlink:title=\"fizz_buzz(n=15)\">\n",
       "<polygon fill=\"none\" stroke=\"black\" points=\"750,-41 655,-41 655,0 750,0 750,-41\"/>\n",
       "<text text-anchor=\"middle\" x=\"702.5\" y=\"-29\" font-family=\"Helvetica,sans-Serif\" font-size=\"10.00\">fizz_buzz(n=15)</text>\n",
       "<text text-anchor=\"middle\" x=\"702.5\" y=\"-18\" font-family=\"Helvetica,sans-Serif\" font-size=\"10.00\">&#45;&gt; list_result</text>\n",
       "<text text-anchor=\"middle\" x=\"702.5\" y=\"-7\" font-family=\"Helvetica,sans-Serif\" font-size=\"10.00\">0:00:02.046878</text>\n",
       "</a>\n",
       "</g>\n",
       "</g>\n",
       "<!-- n5&#45;&gt;n6 -->\n",
       "<g id=\"edge16\" class=\"edge\">\n",
       "<title>n5&#45;&gt;n6</title>\n",
       "<path fill=\"none\" stroke=\"black\" d=\"M619.16,-20.5C619.16,-20.5 644.65,-20.5 644.65,-20.5\"/>\n",
       "<polygon fill=\"black\" stroke=\"black\" points=\"644.65,-24 654.65,-20.5 644.65,-17 644.65,-24\"/>\n",
       "</g>\n",
       "<!-- n7 -->\n",
       "<g id=\"node7\" class=\"node\">\n",
       "<title>n7</title>\n",
       "<g id=\"a_node7\"><a xlink:title=\"fizz_buzz(n=14)\">\n",
       "<polygon fill=\"none\" stroke=\"black\" points=\"881,-41 786,-41 786,0 881,0 881,-41\"/>\n",
       "<text text-anchor=\"middle\" x=\"833.5\" y=\"-29\" font-family=\"Helvetica,sans-Serif\" font-size=\"10.00\">fizz_buzz(n=14)</text>\n",
       "<text text-anchor=\"middle\" x=\"833.5\" y=\"-18\" font-family=\"Helvetica,sans-Serif\" font-size=\"10.00\">&#45;&gt; list_result</text>\n",
       "<text text-anchor=\"middle\" x=\"833.5\" y=\"-7\" font-family=\"Helvetica,sans-Serif\" font-size=\"10.00\">0:00:01.843399</text>\n",
       "</a>\n",
       "</g>\n",
       "</g>\n",
       "<!-- n6&#45;&gt;n7 -->\n",
       "<g id=\"edge15\" class=\"edge\">\n",
       "<title>n6&#45;&gt;n7</title>\n",
       "<path fill=\"none\" stroke=\"black\" d=\"M750.16,-20.5C750.16,-20.5 775.65,-20.5 775.65,-20.5\"/>\n",
       "<polygon fill=\"black\" stroke=\"black\" points=\"775.65,-24 785.65,-20.5 775.65,-17 775.65,-24\"/>\n",
       "</g>\n",
       "<!-- n8 -->\n",
       "<g id=\"node8\" class=\"node\">\n",
       "<title>n8</title>\n",
       "<g id=\"a_node8\"><a xlink:title=\"fizz_buzz(n=13)\">\n",
       "<polygon fill=\"none\" stroke=\"black\" points=\"1012,-41 917,-41 917,0 1012,0 1012,-41\"/>\n",
       "<text text-anchor=\"middle\" x=\"964.5\" y=\"-29\" font-family=\"Helvetica,sans-Serif\" font-size=\"10.00\">fizz_buzz(n=13)</text>\n",
       "<text text-anchor=\"middle\" x=\"964.5\" y=\"-18\" font-family=\"Helvetica,sans-Serif\" font-size=\"10.00\">&#45;&gt; list_result</text>\n",
       "<text text-anchor=\"middle\" x=\"964.5\" y=\"-7\" font-family=\"Helvetica,sans-Serif\" font-size=\"10.00\">0:00:01.638363</text>\n",
       "</a>\n",
       "</g>\n",
       "</g>\n",
       "<!-- n7&#45;&gt;n8 -->\n",
       "<g id=\"edge14\" class=\"edge\">\n",
       "<title>n7&#45;&gt;n8</title>\n",
       "<path fill=\"none\" stroke=\"black\" d=\"M881.16,-20.5C881.16,-20.5 906.65,-20.5 906.65,-20.5\"/>\n",
       "<polygon fill=\"black\" stroke=\"black\" points=\"906.65,-24 916.65,-20.5 906.65,-17 906.65,-24\"/>\n",
       "</g>\n",
       "<!-- n9 -->\n",
       "<g id=\"node9\" class=\"node\">\n",
       "<title>n9</title>\n",
       "<g id=\"a_node9\"><a xlink:title=\"fizz_buzz(n=12)\">\n",
       "<polygon fill=\"none\" stroke=\"black\" points=\"1143,-41 1048,-41 1048,0 1143,0 1143,-41\"/>\n",
       "<text text-anchor=\"middle\" x=\"1095.5\" y=\"-29\" font-family=\"Helvetica,sans-Serif\" font-size=\"10.00\">fizz_buzz(n=12)</text>\n",
       "<text text-anchor=\"middle\" x=\"1095.5\" y=\"-18\" font-family=\"Helvetica,sans-Serif\" font-size=\"10.00\">&#45;&gt; list_result</text>\n",
       "<text text-anchor=\"middle\" x=\"1095.5\" y=\"-7\" font-family=\"Helvetica,sans-Serif\" font-size=\"10.00\">0:00:01.433738</text>\n",
       "</a>\n",
       "</g>\n",
       "</g>\n",
       "<!-- n8&#45;&gt;n9 -->\n",
       "<g id=\"edge13\" class=\"edge\">\n",
       "<title>n8&#45;&gt;n9</title>\n",
       "<path fill=\"none\" stroke=\"black\" d=\"M1012.16,-20.5C1012.16,-20.5 1037.65,-20.5 1037.65,-20.5\"/>\n",
       "<polygon fill=\"black\" stroke=\"black\" points=\"1037.65,-24 1047.65,-20.5 1037.65,-17 1037.65,-24\"/>\n",
       "</g>\n",
       "<!-- n10 -->\n",
       "<g id=\"node10\" class=\"node\">\n",
       "<title>n10</title>\n",
       "<g id=\"a_node10\"><a xlink:title=\"fizz_buzz(n=11)\">\n",
       "<polygon fill=\"none\" stroke=\"black\" points=\"1274,-41 1179,-41 1179,0 1274,0 1274,-41\"/>\n",
       "<text text-anchor=\"middle\" x=\"1226.5\" y=\"-29\" font-family=\"Helvetica,sans-Serif\" font-size=\"10.00\">fizz_buzz(n=11)</text>\n",
       "<text text-anchor=\"middle\" x=\"1226.5\" y=\"-18\" font-family=\"Helvetica,sans-Serif\" font-size=\"10.00\">&#45;&gt; list_result</text>\n",
       "<text text-anchor=\"middle\" x=\"1226.5\" y=\"-7\" font-family=\"Helvetica,sans-Serif\" font-size=\"10.00\">0:00:01.228284</text>\n",
       "</a>\n",
       "</g>\n",
       "</g>\n",
       "<!-- n9&#45;&gt;n10 -->\n",
       "<g id=\"edge12\" class=\"edge\">\n",
       "<title>n9&#45;&gt;n10</title>\n",
       "<path fill=\"none\" stroke=\"black\" d=\"M1143.16,-20.5C1143.16,-20.5 1168.65,-20.5 1168.65,-20.5\"/>\n",
       "<polygon fill=\"black\" stroke=\"black\" points=\"1168.65,-24 1178.65,-20.5 1168.65,-17 1168.65,-24\"/>\n",
       "</g>\n",
       "<!-- n11 -->\n",
       "<g id=\"node11\" class=\"node\">\n",
       "<title>n11</title>\n",
       "<g id=\"a_node11\"><a xlink:title=\"fizz_buzz(n=10)\">\n",
       "<polygon fill=\"none\" stroke=\"black\" points=\"1405,-41 1310,-41 1310,0 1405,0 1405,-41\"/>\n",
       "<text text-anchor=\"middle\" x=\"1357.5\" y=\"-29\" font-family=\"Helvetica,sans-Serif\" font-size=\"10.00\">fizz_buzz(n=10)</text>\n",
       "<text text-anchor=\"middle\" x=\"1357.5\" y=\"-18\" font-family=\"Helvetica,sans-Serif\" font-size=\"10.00\">&#45;&gt; list_result</text>\n",
       "<text text-anchor=\"middle\" x=\"1357.5\" y=\"-7\" font-family=\"Helvetica,sans-Serif\" font-size=\"10.00\">0:00:01.023622</text>\n",
       "</a>\n",
       "</g>\n",
       "</g>\n",
       "<!-- n10&#45;&gt;n11 -->\n",
       "<g id=\"edge11\" class=\"edge\">\n",
       "<title>n10&#45;&gt;n11</title>\n",
       "<path fill=\"none\" stroke=\"black\" d=\"M1274.16,-20.5C1274.16,-20.5 1299.65,-20.5 1299.65,-20.5\"/>\n",
       "<polygon fill=\"black\" stroke=\"black\" points=\"1299.65,-24 1309.65,-20.5 1299.65,-17 1299.65,-24\"/>\n",
       "</g>\n",
       "<!-- n12 -->\n",
       "<g id=\"node12\" class=\"node\">\n",
       "<title>n12</title>\n",
       "<g id=\"a_node12\"><a xlink:title=\"fizz_buzz(n=9)\">\n",
       "<polygon fill=\"none\" stroke=\"black\" points=\"1533,-41 1441,-41 1441,0 1533,0 1533,-41\"/>\n",
       "<text text-anchor=\"middle\" x=\"1487\" y=\"-29\" font-family=\"Helvetica,sans-Serif\" font-size=\"10.00\">fizz_buzz(n=9)</text>\n",
       "<text text-anchor=\"middle\" x=\"1487\" y=\"-18\" font-family=\"Helvetica,sans-Serif\" font-size=\"10.00\">&#45;&gt; list_result</text>\n",
       "<text text-anchor=\"middle\" x=\"1487\" y=\"-7\" font-family=\"Helvetica,sans-Serif\" font-size=\"10.00\">0:00:00.819005</text>\n",
       "</a>\n",
       "</g>\n",
       "</g>\n",
       "<!-- n11&#45;&gt;n12 -->\n",
       "<g id=\"edge10\" class=\"edge\">\n",
       "<title>n11&#45;&gt;n12</title>\n",
       "<path fill=\"none\" stroke=\"black\" d=\"M1405.35,-20.5C1405.35,-20.5 1430.64,-20.5 1430.64,-20.5\"/>\n",
       "<polygon fill=\"black\" stroke=\"black\" points=\"1430.64,-24 1440.64,-20.5 1430.64,-17 1430.64,-24\"/>\n",
       "</g>\n",
       "<!-- n13 -->\n",
       "<g id=\"node13\" class=\"node\">\n",
       "<title>n13</title>\n",
       "<g id=\"a_node13\"><a xlink:title=\"fizz_buzz(n=8)\">\n",
       "<polygon fill=\"none\" stroke=\"black\" points=\"1661,-41 1569,-41 1569,0 1661,0 1661,-41\"/>\n",
       "<text text-anchor=\"middle\" x=\"1615\" y=\"-29\" font-family=\"Helvetica,sans-Serif\" font-size=\"10.00\">fizz_buzz(n=8)</text>\n",
       "<text text-anchor=\"middle\" x=\"1615\" y=\"-18\" font-family=\"Helvetica,sans-Serif\" font-size=\"10.00\">&#45;&gt; list_result</text>\n",
       "<text text-anchor=\"middle\" x=\"1615\" y=\"-7\" font-family=\"Helvetica,sans-Serif\" font-size=\"10.00\">0:00:00.614102</text>\n",
       "</a>\n",
       "</g>\n",
       "</g>\n",
       "<!-- n12&#45;&gt;n13 -->\n",
       "<g id=\"edge9\" class=\"edge\">\n",
       "<title>n12&#45;&gt;n13</title>\n",
       "<path fill=\"none\" stroke=\"black\" d=\"M1533.21,-20.5C1533.21,-20.5 1558.86,-20.5 1558.86,-20.5\"/>\n",
       "<polygon fill=\"black\" stroke=\"black\" points=\"1558.86,-24 1568.86,-20.5 1558.86,-17 1558.86,-24\"/>\n",
       "</g>\n",
       "<!-- n14 -->\n",
       "<g id=\"node14\" class=\"node\">\n",
       "<title>n14</title>\n",
       "<g id=\"a_node14\"><a xlink:title=\"fizz_buzz(n=7)\">\n",
       "<polygon fill=\"none\" stroke=\"black\" points=\"1789,-41 1697,-41 1697,0 1789,0 1789,-41\"/>\n",
       "<text text-anchor=\"middle\" x=\"1743\" y=\"-29\" font-family=\"Helvetica,sans-Serif\" font-size=\"10.00\">fizz_buzz(n=7)</text>\n",
       "<text text-anchor=\"middle\" x=\"1743\" y=\"-18\" font-family=\"Helvetica,sans-Serif\" font-size=\"10.00\">&#45;&gt; list_result</text>\n",
       "<text text-anchor=\"middle\" x=\"1743\" y=\"-7\" font-family=\"Helvetica,sans-Serif\" font-size=\"10.00\">0:00:00.407984</text>\n",
       "</a>\n",
       "</g>\n",
       "</g>\n",
       "<!-- n13&#45;&gt;n14 -->\n",
       "<g id=\"edge8\" class=\"edge\">\n",
       "<title>n13&#45;&gt;n14</title>\n",
       "<path fill=\"none\" stroke=\"black\" d=\"M1661.21,-20.5C1661.21,-20.5 1686.86,-20.5 1686.86,-20.5\"/>\n",
       "<polygon fill=\"black\" stroke=\"black\" points=\"1686.86,-24 1696.86,-20.5 1686.86,-17 1686.86,-24\"/>\n",
       "</g>\n",
       "<!-- n15 -->\n",
       "<g id=\"node15\" class=\"node\">\n",
       "<title>n15</title>\n",
       "<g id=\"a_node15\"><a xlink:title=\"fizz_buzz(n=6)\">\n",
       "<polygon fill=\"none\" stroke=\"black\" points=\"1917,-41 1825,-41 1825,0 1917,0 1917,-41\"/>\n",
       "<text text-anchor=\"middle\" x=\"1871\" y=\"-29\" font-family=\"Helvetica,sans-Serif\" font-size=\"10.00\">fizz_buzz(n=6)</text>\n",
       "<text text-anchor=\"middle\" x=\"1871\" y=\"-18\" font-family=\"Helvetica,sans-Serif\" font-size=\"10.00\">&#45;&gt; list_result</text>\n",
       "<text text-anchor=\"middle\" x=\"1871\" y=\"-7\" font-family=\"Helvetica,sans-Serif\" font-size=\"10.00\">0:00:00.203490</text>\n",
       "</a>\n",
       "</g>\n",
       "</g>\n",
       "<!-- n14&#45;&gt;n15 -->\n",
       "<g id=\"edge7\" class=\"edge\">\n",
       "<title>n14&#45;&gt;n15</title>\n",
       "<path fill=\"none\" stroke=\"black\" d=\"M1789.21,-20.5C1789.21,-20.5 1814.86,-20.5 1814.86,-20.5\"/>\n",
       "<polygon fill=\"black\" stroke=\"black\" points=\"1814.86,-24 1824.86,-20.5 1814.86,-17 1814.86,-24\"/>\n",
       "</g>\n",
       "<!-- n16 -->\n",
       "<g id=\"node16\" class=\"node\">\n",
       "<title>n16</title>\n",
       "<g id=\"a_node16\"><a xlink:title=\"fizz_buzz(n=5)\">\n",
       "<polygon fill=\"none\" stroke=\"black\" points=\"2045,-41 1953,-41 1953,0 2045,0 2045,-41\"/>\n",
       "<text text-anchor=\"middle\" x=\"1999\" y=\"-29\" font-family=\"Helvetica,sans-Serif\" font-size=\"10.00\">fizz_buzz(n=5)</text>\n",
       "<text text-anchor=\"middle\" x=\"1999\" y=\"-18\" font-family=\"Helvetica,sans-Serif\" font-size=\"10.00\">&#45;&gt; list_result</text>\n",
       "<text text-anchor=\"middle\" x=\"1999\" y=\"-7\" font-family=\"Helvetica,sans-Serif\" font-size=\"10.00\">0:00:00.816944</text>\n",
       "</a>\n",
       "</g>\n",
       "</g>\n",
       "<!-- n15&#45;&gt;n16 -->\n",
       "<g id=\"edge6\" class=\"edge\">\n",
       "<title>n15&#45;&gt;n16</title>\n",
       "<path fill=\"none\" stroke=\"black\" d=\"M1917.21,-20.5C1917.21,-20.5 1942.86,-20.5 1942.86,-20.5\"/>\n",
       "<polygon fill=\"black\" stroke=\"black\" points=\"1942.86,-24 1952.86,-20.5 1942.86,-17 1942.86,-24\"/>\n",
       "</g>\n",
       "<!-- n17 -->\n",
       "<g id=\"node17\" class=\"node\">\n",
       "<title>n17</title>\n",
       "<g id=\"a_node17\"><a xlink:title=\"fizz_buzz(n=4)\">\n",
       "<polygon fill=\"none\" stroke=\"black\" points=\"2173,-41 2081,-41 2081,0 2173,0 2173,-41\"/>\n",
       "<text text-anchor=\"middle\" x=\"2127\" y=\"-29\" font-family=\"Helvetica,sans-Serif\" font-size=\"10.00\">fizz_buzz(n=4)</text>\n",
       "<text text-anchor=\"middle\" x=\"2127\" y=\"-18\" font-family=\"Helvetica,sans-Serif\" font-size=\"10.00\">&#45;&gt; list_result</text>\n",
       "<text text-anchor=\"middle\" x=\"2127\" y=\"-7\" font-family=\"Helvetica,sans-Serif\" font-size=\"10.00\">0:00:00.612324</text>\n",
       "</a>\n",
       "</g>\n",
       "</g>\n",
       "<!-- n16&#45;&gt;n17 -->\n",
       "<g id=\"edge5\" class=\"edge\">\n",
       "<title>n16&#45;&gt;n17</title>\n",
       "<path fill=\"none\" stroke=\"black\" d=\"M2045.21,-20.5C2045.21,-20.5 2070.86,-20.5 2070.86,-20.5\"/>\n",
       "<polygon fill=\"black\" stroke=\"black\" points=\"2070.86,-24 2080.86,-20.5 2070.86,-17 2070.86,-24\"/>\n",
       "</g>\n",
       "<!-- n18 -->\n",
       "<g id=\"node18\" class=\"node\">\n",
       "<title>n18</title>\n",
       "<g id=\"a_node18\"><a xlink:title=\"fizz_buzz(n=3)\">\n",
       "<polygon fill=\"none\" stroke=\"black\" points=\"2301,-41 2209,-41 2209,0 2301,0 2301,-41\"/>\n",
       "<text text-anchor=\"middle\" x=\"2255\" y=\"-29\" font-family=\"Helvetica,sans-Serif\" font-size=\"10.00\">fizz_buzz(n=3)</text>\n",
       "<text text-anchor=\"middle\" x=\"2255\" y=\"-18\" font-family=\"Helvetica,sans-Serif\" font-size=\"10.00\">&#45;&gt; list_result</text>\n",
       "<text text-anchor=\"middle\" x=\"2255\" y=\"-7\" font-family=\"Helvetica,sans-Serif\" font-size=\"10.00\">0:00:00.408278</text>\n",
       "</a>\n",
       "</g>\n",
       "</g>\n",
       "<!-- n17&#45;&gt;n18 -->\n",
       "<g id=\"edge4\" class=\"edge\">\n",
       "<title>n17&#45;&gt;n18</title>\n",
       "<path fill=\"none\" stroke=\"black\" d=\"M2173.21,-20.5C2173.21,-20.5 2198.86,-20.5 2198.86,-20.5\"/>\n",
       "<polygon fill=\"black\" stroke=\"black\" points=\"2198.86,-24 2208.86,-20.5 2198.86,-17 2198.86,-24\"/>\n",
       "</g>\n",
       "<!-- n19 -->\n",
       "<g id=\"node19\" class=\"node\">\n",
       "<title>n19</title>\n",
       "<g id=\"a_node19\"><a xlink:title=\"fizz_buzz(n=2)\">\n",
       "<polygon fill=\"none\" stroke=\"black\" points=\"2429,-41 2337,-41 2337,0 2429,0 2429,-41\"/>\n",
       "<text text-anchor=\"middle\" x=\"2383\" y=\"-29\" font-family=\"Helvetica,sans-Serif\" font-size=\"10.00\">fizz_buzz(n=2)</text>\n",
       "<text text-anchor=\"middle\" x=\"2383\" y=\"-18\" font-family=\"Helvetica,sans-Serif\" font-size=\"10.00\">&#45;&gt; list_result</text>\n",
       "<text text-anchor=\"middle\" x=\"2383\" y=\"-7\" font-family=\"Helvetica,sans-Serif\" font-size=\"10.00\">0:00:00.204779</text>\n",
       "</a>\n",
       "</g>\n",
       "</g>\n",
       "<!-- n18&#45;&gt;n19 -->\n",
       "<g id=\"edge3\" class=\"edge\">\n",
       "<title>n18&#45;&gt;n19</title>\n",
       "<path fill=\"none\" stroke=\"black\" d=\"M2301.21,-20.5C2301.21,-20.5 2326.86,-20.5 2326.86,-20.5\"/>\n",
       "<polygon fill=\"black\" stroke=\"black\" points=\"2326.86,-24 2336.86,-20.5 2326.86,-17 2326.86,-24\"/>\n",
       "</g>\n",
       "<!-- n20 -->\n",
       "<g id=\"node20\" class=\"node\">\n",
       "<title>n20</title>\n",
       "<g id=\"a_node20\"><a xlink:title=\"fizz_buzz(n=1)\">\n",
       "<polygon fill=\"none\" stroke=\"black\" points=\"2557,-41 2465,-41 2465,0 2557,0 2557,-41\"/>\n",
       "<text text-anchor=\"middle\" x=\"2511\" y=\"-29\" font-family=\"Helvetica,sans-Serif\" font-size=\"10.00\">fizz_buzz(n=1)</text>\n",
       "<text text-anchor=\"middle\" x=\"2511\" y=\"-18\" font-family=\"Helvetica,sans-Serif\" font-size=\"10.00\">&#45;&gt; list_result</text>\n",
       "<text text-anchor=\"middle\" x=\"2511\" y=\"-7\" font-family=\"Helvetica,sans-Serif\" font-size=\"10.00\">0:00:00.405597</text>\n",
       "</a>\n",
       "</g>\n",
       "</g>\n",
       "<!-- n19&#45;&gt;n20 -->\n",
       "<g id=\"edge2\" class=\"edge\">\n",
       "<title>n19&#45;&gt;n20</title>\n",
       "<path fill=\"none\" stroke=\"black\" d=\"M2429.21,-20.5C2429.21,-20.5 2454.86,-20.5 2454.86,-20.5\"/>\n",
       "<polygon fill=\"black\" stroke=\"black\" points=\"2454.86,-24 2464.86,-20.5 2454.86,-17 2454.86,-24\"/>\n",
       "</g>\n",
       "<!-- n21 -->\n",
       "<g id=\"node21\" class=\"node\">\n",
       "<title>n21</title>\n",
       "<g id=\"a_node21\"><a xlink:title=\"fizz_buzz(n=0)\">\n",
       "<polygon fill=\"none\" stroke=\"black\" points=\"2685,-41 2593,-41 2593,0 2685,0 2685,-41\"/>\n",
       "<text text-anchor=\"middle\" x=\"2639\" y=\"-29\" font-family=\"Helvetica,sans-Serif\" font-size=\"10.00\">fizz_buzz(n=0)</text>\n",
       "<text text-anchor=\"middle\" x=\"2639\" y=\"-18\" font-family=\"Helvetica,sans-Serif\" font-size=\"10.00\">&#45;&gt; list_result</text>\n",
       "<text text-anchor=\"middle\" x=\"2639\" y=\"-7\" font-family=\"Helvetica,sans-Serif\" font-size=\"10.00\">0:00:00.200649</text>\n",
       "</a>\n",
       "</g>\n",
       "</g>\n",
       "<!-- n20&#45;&gt;n21 -->\n",
       "<g id=\"edge1\" class=\"edge\">\n",
       "<title>n20&#45;&gt;n21</title>\n",
       "<path fill=\"none\" stroke=\"black\" d=\"M2557.21,-20.5C2557.21,-20.5 2582.86,-20.5 2582.86,-20.5\"/>\n",
       "<polygon fill=\"black\" stroke=\"black\" points=\"2582.86,-24 2592.86,-20.5 2582.86,-17 2582.86,-24\"/>\n",
       "</g>\n",
       "</g>\n",
       "</svg>\n"
      ],
      "text/plain": [
       "<graphviz.graphs.Digraph at 0x7fcaa7c9b430>"
      ]
     },
     "execution_count": 29,
     "metadata": {},
     "output_type": "execute_result"
    }
   ],
   "source": [
    "fizz_buzz.memento(20).graph()"
   ]
  },
  {
   "cell_type": "code",
   "execution_count": 30,
   "id": "c643653c-1968-4e92-bdf7-cfe5eea1b56f",
   "metadata": {},
   "outputs": [
    {
     "data": {
      "text/plain": [
       "['1',\n",
       " '2',\n",
       " 'Fizz',\n",
       " '4',\n",
       " 'Buzz',\n",
       " 'Fizz',\n",
       " '7',\n",
       " '8',\n",
       " 'Fizz',\n",
       " 'Buzz',\n",
       " '11',\n",
       " 'Fizz',\n",
       " '13',\n",
       " '14',\n",
       " 'FizzBuzz']"
      ]
     },
     "execution_count": 30,
     "metadata": {},
     "output_type": "execute_result"
    }
   ],
   "source": [
    "fizz_buzz(15)"
   ]
  }
 ],
 "metadata": {
  "kernelspec": {
   "display_name": "Python 3 (ipykernel)",
   "language": "python",
   "name": "python3"
  },
  "language_info": {
   "codemirror_mode": {
    "name": "ipython",
    "version": 3
   },
   "file_extension": ".py",
   "mimetype": "text/x-python",
   "name": "python",
   "nbconvert_exporter": "python",
   "pygments_lexer": "ipython3",
   "version": "3.10.12"
  }
 },
 "nbformat": 4,
 "nbformat_minor": 5
}
