{
 "cells": [
  {
   "cell_type": "markdown",
   "id": "ef4ba8c0-2b1e-4dca-96a9-22ff2173b09f",
   "metadata": {},
   "source": [
    "# Demo: Gross Adjusted Income vs. Citibike Usage Analysis using Memento\n",
    "\n",
    "In 2013, NYC launched its bike sharing program, Citibike, which is now an essential part of NYC's transportation infrastructure.\n",
    "\n",
    "Is Citibike equitable? In covered areas, does it benefit individuals in wealthier neighborhoods more than others?\n",
    "\n",
    "This notebook explores the following hypothesis which could be used, in part, to help answer this question. Specifically:\n",
    "\n",
    "<b>Hypothesis: For covered areas, zip codes in NYC with higher median adjusted gross incomes show higher Citi Bike usage (trip starts + trip ends)</b>\n",
    "\n",
    "There are several potential improvements that could be made to this hypothesis if we were conduting real research (e.g. some zip codes are larger than others), but the point of this notebook is to demonstrate how Memento might be used in a realistic research scenario.\n",
    "\n",
    "<b>This is not a scientific analysis and is simply a demonstration of a typical research scenario and how Memento might be used to organize a notebook conducting similar research.</b>\n",
    "\n",
    "<div style=\"font-size: 6pt;\"><b>Disclaimer:</b>\n",
    "<p>This document is being distributed for informational and educational purposes only and is not an offer to sell or the solicitation of an offer to buy any securities or other instruments. The information contained herein is not intended to provide, and should not be relied upon for, investment advice. The views expressed herein are not necessarily the views of Two Sigma Investments, LP or any of its affiliates (collectively, “Two Sigma”). Such views reflect the assumptions of the author(s) of the document and are subject to change without notice. The document may employ data derived from third-party sources. No representation is made by Two Sigma as to the accuracy of such information and the use of such information in no way implies an endorsement of the source of such information or its validity.</p>\n",
    "\n",
    "<p>The copyrights and/or trademarks in some of the images, logos or other material used herein may be owned by entities other than Two Sigma. If so, such copyrights and/or trademarks are most likely owned by the entity that created the material and are used purely for identification and comment as fair use under international copyright and/or trademark laws. Use of such image, copyright or trademark does not imply any association with such organization (or endorsement of such organization) by Two Sigma, nor vice versa.</p>\n",
    "</div>"
   ]
  },
  {
   "cell_type": "markdown",
   "id": "6dfa4249-f92e-4bb5-9494-ff7818ea7ef6",
   "metadata": {
    "tags": []
   },
   "source": [
    "## Init and Imports"
   ]
  },
  {
   "cell_type": "code",
   "execution_count": null,
   "id": "d72cca6a-6276-4672-9508-c7537d709fa0",
   "metadata": {
    "tags": []
   },
   "outputs": [],
   "source": [
    "# sudo apt-get install graphviz\n",
    "!pip install boto3 matplotlib geopy scipy twosigma.memento"
   ]
  },
  {
   "cell_type": "code",
   "execution_count": 2,
   "id": "3abfdc86-14e3-4b40-a460-b9607b7e030a",
   "metadata": {
    "tags": []
   },
   "outputs": [],
   "source": [
    "from twosigma.memento import memento_function\n",
    "import boto3\n",
    "from io import BytesIO, StringIO\n",
    "import zipfile\n",
    "import pandas as pd\n",
    "import matplotlib\n",
    "import requests\n",
    "from geopy.geocoders import Nominatim\n",
    "import matplotlib.pyplot as plt\n",
    "from scipy import stats\n",
    "import numpy as np"
   ]
  },
  {
   "cell_type": "markdown",
   "id": "a9af39a1-229a-4538-89a5-640d6d41317b",
   "metadata": {
    "tags": []
   },
   "source": [
    "## Citibike Trip Data"
   ]
  },
  {
   "cell_type": "code",
   "execution_count": 3,
   "id": "3ba02267-2f7d-4fed-9868-d3b3a073f0b9",
   "metadata": {
    "tags": []
   },
   "outputs": [],
   "source": [
    "@memento_function\n",
    "def ingest_citibike(year: int):\n",
    "    bucket = \"tripdata\"\n",
    "    s3_client = boto3.client(\"s3\")\n",
    "    zip_filename = f\"{year}-citibike-tripdata.zip\"\n",
    "    response = s3_client.get_object(Bucket=bucket, Key=zip_filename)\n",
    "    object_data = response['Body'].read()\n",
    "    return object_data"
   ]
  },
  {
   "cell_type": "code",
   "execution_count": 4,
   "id": "dabae2f4-2662-4879-be95-67a40f850d3a",
   "metadata": {
    "tags": []
   },
   "outputs": [],
   "source": [
    "def list_citibike_csvs(zip: zipfile.ZipFile) -> list[str]:\n",
    "    return sorted([file for file in zip.namelist() if file.endswith(\"_1.csv\")], key=lambda f: f[f.rindex(\"/\")+1:])"
   ]
  },
  {
   "cell_type": "code",
   "execution_count": 5,
   "id": "100b9534-359b-41c2-a5f7-4fc18f9d1c21",
   "metadata": {
    "tags": []
   },
   "outputs": [],
   "source": [
    "@memento_function\n",
    "def citibike_tripdata_csv(year: int, month: int) -> str:\n",
    "    yyyymm = f\"{year}{month:02}\"\n",
    "    data = ingest_citibike(year)\n",
    "    zip = zipfile.ZipFile(BytesIO(data))\n",
    "    name_list = list_citibike_csvs(zip)\n",
    "    names_for_month = [name for name in name_list if yyyymm in name]\n",
    "    if len(names_for_month) >= 1:\n",
    "        name = names_for_month[0]\n",
    "        with zip.open(name) as f:\n",
    "            return f.read().decode(\"utf-8\")\n",
    "    else:\n",
    "        return None\n"
   ]
  },
  {
   "cell_type": "code",
   "execution_count": 6,
   "id": "d4d88f7c-45f1-4837-b83a-627842ef9d12",
   "metadata": {
    "tags": []
   },
   "outputs": [],
   "source": [
    "@memento_function\n",
    "def normalize_citibike_tripdata(year: int, month: int = None) -> pd.DataFrame:\n",
    "    if month is None:\n",
    "        all_dfs = [normalize_citibike_tripdata(year, m) for m in range(1, 13)]\n",
    "        all_dfs = [df for df in all_dfs if df is not None]\n",
    "        return pd.concat(all_dfs)\n",
    "    else:\n",
    "        return pd.read_csv(StringIO(citibike_tripdata_csv(year, month)))"
   ]
  },
  {
   "cell_type": "code",
   "execution_count": 7,
   "id": "b7fba306-4b7a-4dba-ad17-8e0d7101dc96",
   "metadata": {
    "tags": []
   },
   "outputs": [],
   "source": [
    "@memento_function\n",
    "def zip_by_lat_long(lat: float, long: float) -> int:\n",
    "  geolocator = Nominatim(user_agent=\"twosigma_memento_example\")\n",
    "  location = geolocator.reverse((lat, long))\n",
    "  if location.raw.get('address', {}).get('postcode'):\n",
    "    return location.raw['address']['postcode']\n",
    "  else:\n",
    "    return None"
   ]
  },
  {
   "cell_type": "code",
   "execution_count": 8,
   "id": "6ddbac5a-2375-428f-8b6d-78db6180f5c5",
   "metadata": {
    "tags": []
   },
   "outputs": [],
   "source": [
    "@memento_function\n",
    "def start_usage(year: int) -> pd.DataFrame:\n",
    "    df = normalize_citibike_tripdata(2020)\n",
    "    df = df \\\n",
    "        .groupby(\"start station id\") \\\n",
    "        .agg(\n",
    "            count=(\"start station id\", \"size\"),\n",
    "            lat=(\"start station latitude\", \"first\"),\n",
    "            long=(\"start station longitude\", \"first\")\n",
    "        ) \\\n",
    "        .reset_index() \\\n",
    "        .drop(\"start station id\", axis=1)\n",
    "    \n",
    "    # df is now (count, lat, long). Look up zip code\n",
    "    df[\"zipcode\"] = df.apply(lambda row: zip_by_lat_long(row[\"lat\"], row[\"long\"]), axis=1)\n",
    "    return df\n",
    "\n",
    "\n",
    "@memento_function\n",
    "def end_usage(year: int) -> pd.DataFrame:\n",
    "    df = normalize_citibike_tripdata(2020)\n",
    "    df = df \\\n",
    "        .groupby(\"end station id\") \\\n",
    "        .agg(\n",
    "            count=(\"end station id\", \"size\"),\n",
    "            lat=(\"end station latitude\", \"first\"),\n",
    "            long=(\"end station longitude\", \"first\")\n",
    "        ) \\\n",
    "        .reset_index() \\\n",
    "        .drop(\"end station id\", axis=1)\n",
    "    \n",
    "    # df is now (count, lat, long). Look up zip code\n",
    "    df[\"zipcode\"] = df.apply(lambda row: zip_by_lat_long(row[\"lat\"], row[\"long\"]), axis=1)\n",
    "    return df\n"
   ]
  },
  {
   "cell_type": "code",
   "execution_count": 9,
   "id": "624eb259-621f-4819-b925-13d009f913ed",
   "metadata": {
    "tags": []
   },
   "outputs": [],
   "source": [
    "@memento_function\n",
    "def citibike_activity_by_zip(year: int) -> pd.DataFrame:\n",
    "    \"\"\"Rides that started or ended in each zip code, over the course of the year\"\"\"\n",
    "    df_start = start_usage(year)\n",
    "    df_end = end_usage(year)\n",
    "    d1 = df_start.drop([\"lat\", \"long\"], axis=1).groupby(\"zipcode\").sum().reset_index()\n",
    "    d2 = df_end.drop([\"lat\", \"long\"], axis=1).groupby(\"zipcode\").sum().reset_index()\n",
    "    d3 = d1.set_index(\"zipcode\").add(d2.set_index(\"zipcode\"), fill_value=0).reset_index()\n",
    "    d3[\"zipcode\"] = d3[\"zipcode\"].astype(int)\n",
    "    return d3"
   ]
  },
  {
   "cell_type": "code",
   "execution_count": 10,
   "id": "65a60690-226d-4dcf-9a03-94fc991e55e5",
   "metadata": {
    "tags": []
   },
   "outputs": [
    {
     "data": {
      "text/html": [
       "<?xml version=\"1.0\" encoding=\"UTF-8\" standalone=\"no\"?>\n",
       "<!DOCTYPE svg PUBLIC \"-//W3C//DTD SVG 1.1//EN\"\n",
       " \"http://www.w3.org/Graphics/SVG/1.1/DTD/svg11.dtd\">\n",
       "<!-- Generated by graphviz version 2.43.0 (0)\n",
       " -->\n",
       "<!-- Title: %3 Pages: 1 -->\n",
       "<svg width=\"268pt\" height=\"332pt\"\n",
       " viewBox=\"0.00 0.00 267.50 332.00\" xmlns=\"http://www.w3.org/2000/svg\" xmlns:xlink=\"http://www.w3.org/1999/xlink\">\n",
       "<g id=\"graph0\" class=\"graph\" transform=\"scale(1 1) rotate(0) translate(4 328)\">\n",
       "<title>%3</title>\n",
       "<polygon fill=\"white\" stroke=\"transparent\" points=\"-4,4 -4,-328 263.5,-328 263.5,4 -4,4\"/>\n",
       "<!-- e1cd35ee -->\n",
       "<g id=\"node1\" class=\"node\">\n",
       "<title>e1cd35ee</title>\n",
       "<polygon fill=\"none\" stroke=\"black\" points=\"180.5,-36 49.5,-36 49.5,0 180.5,0 180.5,-36\"/>\n",
       "<text text-anchor=\"start\" x=\"57.5\" y=\"-15.5\" font-family=\"Helvetica,sans-Serif\" font-size=\"10.00\">citibike_activity_by_zip</text>\n",
       "</g>\n",
       "<!-- 7f68612d -->\n",
       "<g id=\"node2\" class=\"node\">\n",
       "<title>7f68612d</title>\n",
       "<polygon fill=\"none\" stroke=\"black\" points=\"104.5,-108 35.5,-108 35.5,-72 104.5,-72 104.5,-108\"/>\n",
       "<text text-anchor=\"start\" x=\"43.5\" y=\"-87.5\" font-family=\"Helvetica,sans-Serif\" font-size=\"10.00\">end_usage</text>\n",
       "</g>\n",
       "<!-- e1cd35ee&#45;&gt;7f68612d -->\n",
       "<g id=\"edge1\" class=\"edge\">\n",
       "<title>e1cd35ee&#45;&gt;7f68612d</title>\n",
       "<path fill=\"none\" stroke=\"black\" d=\"M103.88,-36.3C98.64,-44.44 92.3,-54.31 86.52,-63.3\"/>\n",
       "<polygon fill=\"black\" stroke=\"black\" points=\"83.46,-61.59 81,-71.9 89.35,-65.38 83.46,-61.59\"/>\n",
       "</g>\n",
       "<!-- ccc846ef -->\n",
       "<g id=\"node3\" class=\"node\">\n",
       "<title>ccc846ef</title>\n",
       "<polygon fill=\"none\" stroke=\"black\" points=\"197,-108 123,-108 123,-72 197,-72 197,-108\"/>\n",
       "<text text-anchor=\"start\" x=\"131\" y=\"-87.5\" font-family=\"Helvetica,sans-Serif\" font-size=\"10.00\">start_usage</text>\n",
       "</g>\n",
       "<!-- e1cd35ee&#45;&gt;ccc846ef -->\n",
       "<g id=\"edge2\" class=\"edge\">\n",
       "<title>e1cd35ee&#45;&gt;ccc846ef</title>\n",
       "<path fill=\"none\" stroke=\"black\" d=\"M126.12,-36.3C131.36,-44.44 137.7,-54.31 143.48,-63.3\"/>\n",
       "<polygon fill=\"black\" stroke=\"black\" points=\"140.65,-65.38 149,-71.9 146.54,-61.59 140.65,-65.38\"/>\n",
       "</g>\n",
       "<!-- 93592f4d -->\n",
       "<g id=\"node4\" class=\"node\">\n",
       "<title>93592f4d</title>\n",
       "<polygon fill=\"none\" stroke=\"black\" points=\"92,-180 0,-180 0,-144 92,-144 92,-180\"/>\n",
       "<text text-anchor=\"start\" x=\"8\" y=\"-159.5\" font-family=\"Helvetica,sans-Serif\" font-size=\"10.00\">zip_by_lat_long</text>\n",
       "</g>\n",
       "<!-- 7f68612d&#45;&gt;93592f4d -->\n",
       "<g id=\"edge3\" class=\"edge\">\n",
       "<title>7f68612d&#45;&gt;93592f4d</title>\n",
       "<path fill=\"none\" stroke=\"black\" d=\"M64.07,-108.3C61.39,-116.1 58.17,-125.49 55.2,-134.17\"/>\n",
       "<polygon fill=\"black\" stroke=\"black\" points=\"51.8,-133.3 51.86,-143.9 58.42,-135.57 51.8,-133.3\"/>\n",
       "</g>\n",
       "<!-- 2c30b248 -->\n",
       "<g id=\"node5\" class=\"node\">\n",
       "<title>2c30b248</title>\n",
       "<polygon fill=\"none\" stroke=\"black\" points=\"259.5,-180 110.5,-180 110.5,-144 259.5,-144 259.5,-180\"/>\n",
       "<text text-anchor=\"start\" x=\"118.5\" y=\"-159.5\" font-family=\"Helvetica,sans-Serif\" font-size=\"10.00\">normalize_citibike_tripdata</text>\n",
       "</g>\n",
       "<!-- 7f68612d&#45;&gt;2c30b248 -->\n",
       "<g id=\"edge4\" class=\"edge\">\n",
       "<title>7f68612d&#45;&gt;2c30b248</title>\n",
       "<path fill=\"none\" stroke=\"black\" d=\"M98.13,-108.12C113.17,-117.28 131.87,-128.66 148.06,-138.52\"/>\n",
       "<polygon fill=\"black\" stroke=\"black\" points=\"146.4,-141.6 156.76,-143.81 150.04,-135.62 146.4,-141.6\"/>\n",
       "</g>\n",
       "<!-- ccc846ef&#45;&gt;93592f4d -->\n",
       "<g id=\"edge7\" class=\"edge\">\n",
       "<title>ccc846ef&#45;&gt;93592f4d</title>\n",
       "<path fill=\"none\" stroke=\"black\" d=\"M132.11,-108.12C117.21,-117.28 98.67,-128.66 82.62,-138.52\"/>\n",
       "<polygon fill=\"black\" stroke=\"black\" points=\"80.69,-135.59 73.99,-143.81 84.35,-141.56 80.69,-135.59\"/>\n",
       "</g>\n",
       "<!-- ccc846ef&#45;&gt;2c30b248 -->\n",
       "<g id=\"edge8\" class=\"edge\">\n",
       "<title>ccc846ef&#45;&gt;2c30b248</title>\n",
       "<path fill=\"none\" stroke=\"black\" d=\"M166.18,-108.3C169,-116.19 172.39,-125.7 175.52,-134.45\"/>\n",
       "<polygon fill=\"black\" stroke=\"black\" points=\"172.23,-135.66 178.89,-143.9 178.82,-133.3 172.23,-135.66\"/>\n",
       "</g>\n",
       "<!-- 1ed63db4 -->\n",
       "<g id=\"node6\" class=\"node\">\n",
       "<title>1ed63db4</title>\n",
       "<polygon fill=\"none\" stroke=\"black\" points=\"243.5,-252 126.5,-252 126.5,-216 243.5,-216 243.5,-252\"/>\n",
       "<text text-anchor=\"start\" x=\"134.5\" y=\"-231.5\" font-family=\"Helvetica,sans-Serif\" font-size=\"10.00\">citibike_tripdata_csv</text>\n",
       "</g>\n",
       "<!-- 2c30b248&#45;&gt;1ed63db4 -->\n",
       "<g id=\"edge5\" class=\"edge\">\n",
       "<title>2c30b248&#45;&gt;1ed63db4</title>\n",
       "<path fill=\"none\" stroke=\"black\" d=\"M185,-180.3C185,-188.02 185,-197.29 185,-205.89\"/>\n",
       "<polygon fill=\"black\" stroke=\"black\" points=\"181.5,-205.9 185,-215.9 188.5,-205.9 181.5,-205.9\"/>\n",
       "</g>\n",
       "<!-- 2d9f38ea -->\n",
       "<g id=\"node7\" class=\"node\">\n",
       "<title>2d9f38ea</title>\n",
       "<polygon fill=\"none\" stroke=\"black\" points=\"228.5,-324 141.5,-324 141.5,-288 228.5,-288 228.5,-324\"/>\n",
       "<text text-anchor=\"start\" x=\"149.5\" y=\"-303.5\" font-family=\"Helvetica,sans-Serif\" font-size=\"10.00\">ingest_citibike</text>\n",
       "</g>\n",
       "<!-- 1ed63db4&#45;&gt;2d9f38ea -->\n",
       "<g id=\"edge6\" class=\"edge\">\n",
       "<title>1ed63db4&#45;&gt;2d9f38ea</title>\n",
       "<path fill=\"none\" stroke=\"black\" d=\"M185,-252.3C185,-260.02 185,-269.29 185,-277.89\"/>\n",
       "<polygon fill=\"black\" stroke=\"black\" points=\"181.5,-277.9 185,-287.9 188.5,-277.9 181.5,-277.9\"/>\n",
       "</g>\n",
       "</g>\n",
       "</svg>\n"
      ],
      "text/plain": [
       "<twosigma.memento.dependency_graph.DependencyGraph at 0x7fe5ed49f8e0>"
      ]
     },
     "execution_count": 10,
     "metadata": {},
     "output_type": "execute_result"
    }
   ],
   "source": [
    "citibike_activity_by_zip.dependencies()"
   ]
  },
  {
   "cell_type": "markdown",
   "id": "2867e3ad-794b-4eac-9054-6647eeadec6f",
   "metadata": {
    "tags": []
   },
   "source": [
    "## IRS Data by Zip Code"
   ]
  },
  {
   "cell_type": "code",
   "execution_count": 11,
   "id": "a413e29e-15a6-4f04-b67c-727f81611b72",
   "metadata": {
    "tags": []
   },
   "outputs": [],
   "source": [
    "@memento_function\n",
    "def ingest_irs_gov_zip(year: int) -> bytes:\n",
    "    url = f\"https://www.irs.gov/pub/irs-soi/{year-2000}zpallnoagi.csv\"\n",
    "    response = requests.get(url)\n",
    "    return response.content"
   ]
  },
  {
   "cell_type": "code",
   "execution_count": 12,
   "id": "c5d813cd-9782-48ea-88b6-a21ad954a4a9",
   "metadata": {
    "tags": []
   },
   "outputs": [],
   "source": [
    "@memento_function\n",
    "def normalize_irs_gov_zip(year: int) -> pd.DataFrame:\n",
    "    data = ingest_irs_gov_zip(year)\n",
    "    csv = data.decode(\"utf-8\")\n",
    "    df = pd.read_csv(StringIO(csv))\n",
    "    df.columns = [col.lower() for col in df.columns]\n",
    "    return df"
   ]
  },
  {
   "cell_type": "code",
   "execution_count": 13,
   "id": "313bf04e-6656-4c83-9661-18524c9be083",
   "metadata": {
    "tags": []
   },
   "outputs": [],
   "source": [
    "@memento_function\n",
    "def irs_agi_per_person_by_zip(year: int) -> pd.DataFrame:\n",
    "    \"\"\"Compute mean AGI per person in each ZIP\"\"\"\n",
    "    df = normalize_irs_gov_zip(year)\n",
    "    # (a00100: AGI, n1: count)\n",
    "    df[\"agi\"] = df[\"a00100\"] * 1000.0 / df[\"n1\"]\n",
    "    return df[[\"zipcode\", \"agi\"]]"
   ]
  },
  {
   "cell_type": "code",
   "execution_count": 14,
   "id": "10904a66-d5a2-4b0d-b7bf-915f3af94cf5",
   "metadata": {
    "tags": []
   },
   "outputs": [
    {
     "data": {
      "text/html": [
       "<?xml version=\"1.0\" encoding=\"UTF-8\" standalone=\"no\"?>\n",
       "<!DOCTYPE svg PUBLIC \"-//W3C//DTD SVG 1.1//EN\"\n",
       " \"http://www.w3.org/Graphics/SVG/1.1/DTD/svg11.dtd\">\n",
       "<!-- Generated by graphviz version 2.43.0 (0)\n",
       " -->\n",
       "<!-- Title: %3 Pages: 1 -->\n",
       "<svg width=\"153pt\" height=\"188pt\"\n",
       " viewBox=\"0.00 0.00 153.00 188.00\" xmlns=\"http://www.w3.org/2000/svg\" xmlns:xlink=\"http://www.w3.org/1999/xlink\">\n",
       "<g id=\"graph0\" class=\"graph\" transform=\"scale(1 1) rotate(0) translate(4 184)\">\n",
       "<title>%3</title>\n",
       "<polygon fill=\"white\" stroke=\"transparent\" points=\"-4,4 -4,-184 149,-184 149,4 -4,4\"/>\n",
       "<!-- 2cf646b3 -->\n",
       "<g id=\"node1\" class=\"node\">\n",
       "<title>2cf646b3</title>\n",
       "<polygon fill=\"none\" stroke=\"black\" points=\"145,-36 0,-36 0,0 145,0 145,-36\"/>\n",
       "<text text-anchor=\"start\" x=\"8\" y=\"-15.5\" font-family=\"Helvetica,sans-Serif\" font-size=\"10.00\">irs_agi_per_person_by_zip</text>\n",
       "</g>\n",
       "<!-- 01594205 -->\n",
       "<g id=\"node2\" class=\"node\">\n",
       "<title>01594205</title>\n",
       "<polygon fill=\"none\" stroke=\"black\" points=\"135,-108 10,-108 10,-72 135,-72 135,-108\"/>\n",
       "<text text-anchor=\"start\" x=\"18\" y=\"-87.5\" font-family=\"Helvetica,sans-Serif\" font-size=\"10.00\">normalize_irs_gov_zip</text>\n",
       "</g>\n",
       "<!-- 2cf646b3&#45;&gt;01594205 -->\n",
       "<g id=\"edge1\" class=\"edge\">\n",
       "<title>2cf646b3&#45;&gt;01594205</title>\n",
       "<path fill=\"none\" stroke=\"black\" d=\"M72.5,-36.3C72.5,-44.02 72.5,-53.29 72.5,-61.89\"/>\n",
       "<polygon fill=\"black\" stroke=\"black\" points=\"69,-61.9 72.5,-71.9 76,-61.9 69,-61.9\"/>\n",
       "</g>\n",
       "<!-- fc7ceed1 -->\n",
       "<g id=\"node3\" class=\"node\">\n",
       "<title>fc7ceed1</title>\n",
       "<polygon fill=\"none\" stroke=\"black\" points=\"126,-180 19,-180 19,-144 126,-144 126,-180\"/>\n",
       "<text text-anchor=\"start\" x=\"27\" y=\"-159.5\" font-family=\"Helvetica,sans-Serif\" font-size=\"10.00\">ingest_irs_gov_zip</text>\n",
       "</g>\n",
       "<!-- 01594205&#45;&gt;fc7ceed1 -->\n",
       "<g id=\"edge2\" class=\"edge\">\n",
       "<title>01594205&#45;&gt;fc7ceed1</title>\n",
       "<path fill=\"none\" stroke=\"black\" d=\"M72.5,-108.3C72.5,-116.02 72.5,-125.29 72.5,-133.89\"/>\n",
       "<polygon fill=\"black\" stroke=\"black\" points=\"69,-133.9 72.5,-143.9 76,-133.9 69,-133.9\"/>\n",
       "</g>\n",
       "</g>\n",
       "</svg>\n"
      ],
      "text/plain": [
       "<twosigma.memento.dependency_graph.DependencyGraph at 0x7fe5ed49df90>"
      ]
     },
     "execution_count": 14,
     "metadata": {},
     "output_type": "execute_result"
    }
   ],
   "source": [
    "irs_agi_per_person_by_zip.dependencies()"
   ]
  },
  {
   "cell_type": "markdown",
   "id": "464c8390-88e0-48c2-b021-3679d6f5403e",
   "metadata": {
    "tags": []
   },
   "source": [
    "## Join"
   ]
  },
  {
   "cell_type": "code",
   "execution_count": 15,
   "id": "edad20e6-3382-4483-850f-3872cc997685",
   "metadata": {
    "tags": []
   },
   "outputs": [],
   "source": [
    "@memento_function\n",
    "def citibike_usage_and_agi_by_zip(year: int) -> pd.DataFrame:\n",
    "    df_citibike = citibike_activity_by_zip(2020)    \n",
    "    df_irs = irs_agi_per_person_by_zip(2020)\n",
    "    df = df_citibike.rename(columns={\"count\": \"citibike_usage\"}).merge(df_irs, on=\"zipcode\", how=\"inner\")\n",
    "    return df"
   ]
  },
  {
   "cell_type": "code",
   "execution_count": 16,
   "id": "da6b1631-f5aa-4d3e-9c79-c162f570771e",
   "metadata": {
    "tags": []
   },
   "outputs": [
    {
     "data": {
      "text/html": [
       "<?xml version=\"1.0\" encoding=\"UTF-8\" standalone=\"no\"?>\n",
       "<!DOCTYPE svg PUBLIC \"-//W3C//DTD SVG 1.1//EN\"\n",
       " \"http://www.w3.org/Graphics/SVG/1.1/DTD/svg11.dtd\">\n",
       "<!-- Generated by graphviz version 2.43.0 (0)\n",
       " -->\n",
       "<!-- Title: %3 Pages: 1 -->\n",
       "<svg width=\"417pt\" height=\"404pt\"\n",
       " viewBox=\"0.00 0.00 416.50 404.00\" xmlns=\"http://www.w3.org/2000/svg\" xmlns:xlink=\"http://www.w3.org/1999/xlink\">\n",
       "<g id=\"graph0\" class=\"graph\" transform=\"scale(1 1) rotate(0) translate(4 400)\">\n",
       "<title>%3</title>\n",
       "<polygon fill=\"white\" stroke=\"transparent\" points=\"-4,4 -4,-400 412.5,-400 412.5,4 -4,4\"/>\n",
       "<!-- 2ea77d09 -->\n",
       "<g id=\"node1\" class=\"node\">\n",
       "<title>2ea77d09</title>\n",
       "<polygon fill=\"none\" stroke=\"black\" points=\"234,-36 67,-36 67,0 234,0 234,-36\"/>\n",
       "<text text-anchor=\"start\" x=\"75\" y=\"-15.5\" font-family=\"Helvetica,sans-Serif\" font-size=\"10.00\">citibike_usage_and_agi_by_zip</text>\n",
       "</g>\n",
       "<!-- 2cf646b3 -->\n",
       "<g id=\"node2\" class=\"node\">\n",
       "<title>2cf646b3</title>\n",
       "<polygon fill=\"none\" stroke=\"black\" points=\"145,-108 0,-108 0,-72 145,-72 145,-108\"/>\n",
       "<text text-anchor=\"start\" x=\"8\" y=\"-87.5\" font-family=\"Helvetica,sans-Serif\" font-size=\"10.00\">irs_agi_per_person_by_zip</text>\n",
       "</g>\n",
       "<!-- 2ea77d09&#45;&gt;2cf646b3 -->\n",
       "<g id=\"edge1\" class=\"edge\">\n",
       "<title>2ea77d09&#45;&gt;2cf646b3</title>\n",
       "<path fill=\"none\" stroke=\"black\" d=\"M131.22,-36.3C121.58,-44.95 109.77,-55.55 99.27,-64.97\"/>\n",
       "<polygon fill=\"black\" stroke=\"black\" points=\"96.66,-62.61 91.56,-71.9 101.34,-67.82 96.66,-62.61\"/>\n",
       "</g>\n",
       "<!-- e1cd35ee -->\n",
       "<g id=\"node3\" class=\"node\">\n",
       "<title>e1cd35ee</title>\n",
       "<polygon fill=\"none\" stroke=\"black\" points=\"294,-108 163,-108 163,-72 294,-72 294,-108\"/>\n",
       "<text text-anchor=\"start\" x=\"171\" y=\"-87.5\" font-family=\"Helvetica,sans-Serif\" font-size=\"10.00\">citibike_activity_by_zip</text>\n",
       "</g>\n",
       "<!-- 2ea77d09&#45;&gt;e1cd35ee -->\n",
       "<g id=\"edge2\" class=\"edge\">\n",
       "<title>2ea77d09&#45;&gt;e1cd35ee</title>\n",
       "<path fill=\"none\" stroke=\"black\" d=\"M169.78,-36.3C179.42,-44.95 191.23,-55.55 201.73,-64.97\"/>\n",
       "<polygon fill=\"black\" stroke=\"black\" points=\"199.66,-67.82 209.44,-71.9 204.34,-62.61 199.66,-67.82\"/>\n",
       "</g>\n",
       "<!-- 01594205 -->\n",
       "<g id=\"node10\" class=\"node\">\n",
       "<title>01594205</title>\n",
       "<polygon fill=\"none\" stroke=\"black\" points=\"135,-180 10,-180 10,-144 135,-144 135,-180\"/>\n",
       "<text text-anchor=\"start\" x=\"18\" y=\"-159.5\" font-family=\"Helvetica,sans-Serif\" font-size=\"10.00\">normalize_irs_gov_zip</text>\n",
       "</g>\n",
       "<!-- 2cf646b3&#45;&gt;01594205 -->\n",
       "<g id=\"edge11\" class=\"edge\">\n",
       "<title>2cf646b3&#45;&gt;01594205</title>\n",
       "<path fill=\"none\" stroke=\"black\" d=\"M72.5,-108.3C72.5,-116.02 72.5,-125.29 72.5,-133.89\"/>\n",
       "<polygon fill=\"black\" stroke=\"black\" points=\"69,-133.9 72.5,-143.9 76,-133.9 69,-133.9\"/>\n",
       "</g>\n",
       "<!-- 7f68612d -->\n",
       "<g id=\"node4\" class=\"node\">\n",
       "<title>7f68612d</title>\n",
       "<polygon fill=\"none\" stroke=\"black\" points=\"260,-180 191,-180 191,-144 260,-144 260,-180\"/>\n",
       "<text text-anchor=\"start\" x=\"199\" y=\"-159.5\" font-family=\"Helvetica,sans-Serif\" font-size=\"10.00\">end_usage</text>\n",
       "</g>\n",
       "<!-- e1cd35ee&#45;&gt;7f68612d -->\n",
       "<g id=\"edge3\" class=\"edge\">\n",
       "<title>e1cd35ee&#45;&gt;7f68612d</title>\n",
       "<path fill=\"none\" stroke=\"black\" d=\"M227.76,-108.3C227.43,-116.02 227.03,-125.29 226.66,-133.89\"/>\n",
       "<polygon fill=\"black\" stroke=\"black\" points=\"223.16,-133.75 226.23,-143.9 230.16,-134.05 223.16,-133.75\"/>\n",
       "</g>\n",
       "<!-- ccc846ef -->\n",
       "<g id=\"node5\" class=\"node\">\n",
       "<title>ccc846ef</title>\n",
       "<polygon fill=\"none\" stroke=\"black\" points=\"352.5,-180 278.5,-180 278.5,-144 352.5,-144 352.5,-180\"/>\n",
       "<text text-anchor=\"start\" x=\"286.5\" y=\"-159.5\" font-family=\"Helvetica,sans-Serif\" font-size=\"10.00\">start_usage</text>\n",
       "</g>\n",
       "<!-- e1cd35ee&#45;&gt;ccc846ef -->\n",
       "<g id=\"edge4\" class=\"edge\">\n",
       "<title>e1cd35ee&#45;&gt;ccc846ef</title>\n",
       "<path fill=\"none\" stroke=\"black\" d=\"M250.01,-108.3C260.96,-117.12 274.45,-127.97 286.32,-137.53\"/>\n",
       "<polygon fill=\"black\" stroke=\"black\" points=\"284.26,-140.35 294.24,-143.9 288.64,-134.9 284.26,-140.35\"/>\n",
       "</g>\n",
       "<!-- 93592f4d -->\n",
       "<g id=\"node6\" class=\"node\">\n",
       "<title>93592f4d</title>\n",
       "<polygon fill=\"none\" stroke=\"black\" points=\"408.5,-252 316.5,-252 316.5,-216 408.5,-216 408.5,-252\"/>\n",
       "<text text-anchor=\"start\" x=\"324.5\" y=\"-231.5\" font-family=\"Helvetica,sans-Serif\" font-size=\"10.00\">zip_by_lat_long</text>\n",
       "</g>\n",
       "<!-- 7f68612d&#45;&gt;93592f4d -->\n",
       "<g id=\"edge5\" class=\"edge\">\n",
       "<title>7f68612d&#45;&gt;93592f4d</title>\n",
       "<path fill=\"none\" stroke=\"black\" d=\"M259.01,-180.12C277.34,-189.49 300.24,-201.19 319.83,-211.2\"/>\n",
       "<polygon fill=\"black\" stroke=\"black\" points=\"318.36,-214.38 328.86,-215.81 321.54,-208.14 318.36,-214.38\"/>\n",
       "</g>\n",
       "<!-- 2c30b248 -->\n",
       "<g id=\"node7\" class=\"node\">\n",
       "<title>2c30b248</title>\n",
       "<polygon fill=\"none\" stroke=\"black\" points=\"298,-252 149,-252 149,-216 298,-216 298,-252\"/>\n",
       "<text text-anchor=\"start\" x=\"157\" y=\"-231.5\" font-family=\"Helvetica,sans-Serif\" font-size=\"10.00\">normalize_citibike_tripdata</text>\n",
       "</g>\n",
       "<!-- 7f68612d&#45;&gt;2c30b248 -->\n",
       "<g id=\"edge6\" class=\"edge\">\n",
       "<title>7f68612d&#45;&gt;2c30b248</title>\n",
       "<path fill=\"none\" stroke=\"black\" d=\"M225.01,-180.3C224.79,-188.02 224.52,-197.29 224.27,-205.89\"/>\n",
       "<polygon fill=\"black\" stroke=\"black\" points=\"220.78,-205.8 223.99,-215.9 227.77,-206 220.78,-205.8\"/>\n",
       "</g>\n",
       "<!-- ccc846ef&#45;&gt;93592f4d -->\n",
       "<g id=\"edge9\" class=\"edge\">\n",
       "<title>ccc846ef&#45;&gt;93592f4d</title>\n",
       "<path fill=\"none\" stroke=\"black\" d=\"M327.12,-180.3C332.64,-188.53 339.35,-198.52 345.43,-207.58\"/>\n",
       "<polygon fill=\"black\" stroke=\"black\" points=\"342.54,-209.54 351.02,-215.9 348.35,-205.64 342.54,-209.54\"/>\n",
       "</g>\n",
       "<!-- ccc846ef&#45;&gt;2c30b248 -->\n",
       "<g id=\"edge10\" class=\"edge\">\n",
       "<title>ccc846ef&#45;&gt;2c30b248</title>\n",
       "<path fill=\"none\" stroke=\"black\" d=\"M292.76,-180.3C281.06,-189.2 266.64,-200.18 253.99,-209.8\"/>\n",
       "<polygon fill=\"black\" stroke=\"black\" points=\"251.82,-207.06 245.98,-215.9 256.06,-212.63 251.82,-207.06\"/>\n",
       "</g>\n",
       "<!-- 1ed63db4 -->\n",
       "<g id=\"node8\" class=\"node\">\n",
       "<title>1ed63db4</title>\n",
       "<polygon fill=\"none\" stroke=\"black\" points=\"282,-324 165,-324 165,-288 282,-288 282,-324\"/>\n",
       "<text text-anchor=\"start\" x=\"173\" y=\"-303.5\" font-family=\"Helvetica,sans-Serif\" font-size=\"10.00\">citibike_tripdata_csv</text>\n",
       "</g>\n",
       "<!-- 2c30b248&#45;&gt;1ed63db4 -->\n",
       "<g id=\"edge7\" class=\"edge\">\n",
       "<title>2c30b248&#45;&gt;1ed63db4</title>\n",
       "<path fill=\"none\" stroke=\"black\" d=\"M223.5,-252.3C223.5,-260.02 223.5,-269.29 223.5,-277.89\"/>\n",
       "<polygon fill=\"black\" stroke=\"black\" points=\"220,-277.9 223.5,-287.9 227,-277.9 220,-277.9\"/>\n",
       "</g>\n",
       "<!-- 2d9f38ea -->\n",
       "<g id=\"node9\" class=\"node\">\n",
       "<title>2d9f38ea</title>\n",
       "<polygon fill=\"none\" stroke=\"black\" points=\"267,-396 180,-396 180,-360 267,-360 267,-396\"/>\n",
       "<text text-anchor=\"start\" x=\"188\" y=\"-375.5\" font-family=\"Helvetica,sans-Serif\" font-size=\"10.00\">ingest_citibike</text>\n",
       "</g>\n",
       "<!-- 1ed63db4&#45;&gt;2d9f38ea -->\n",
       "<g id=\"edge8\" class=\"edge\">\n",
       "<title>1ed63db4&#45;&gt;2d9f38ea</title>\n",
       "<path fill=\"none\" stroke=\"black\" d=\"M223.5,-324.3C223.5,-332.02 223.5,-341.29 223.5,-349.89\"/>\n",
       "<polygon fill=\"black\" stroke=\"black\" points=\"220,-349.9 223.5,-359.9 227,-349.9 220,-349.9\"/>\n",
       "</g>\n",
       "<!-- fc7ceed1 -->\n",
       "<g id=\"node11\" class=\"node\">\n",
       "<title>fc7ceed1</title>\n",
       "<polygon fill=\"none\" stroke=\"black\" points=\"126,-252 19,-252 19,-216 126,-216 126,-252\"/>\n",
       "<text text-anchor=\"start\" x=\"27\" y=\"-231.5\" font-family=\"Helvetica,sans-Serif\" font-size=\"10.00\">ingest_irs_gov_zip</text>\n",
       "</g>\n",
       "<!-- 01594205&#45;&gt;fc7ceed1 -->\n",
       "<g id=\"edge12\" class=\"edge\">\n",
       "<title>01594205&#45;&gt;fc7ceed1</title>\n",
       "<path fill=\"none\" stroke=\"black\" d=\"M72.5,-180.3C72.5,-188.02 72.5,-197.29 72.5,-205.89\"/>\n",
       "<polygon fill=\"black\" stroke=\"black\" points=\"69,-205.9 72.5,-215.9 76,-205.9 69,-205.9\"/>\n",
       "</g>\n",
       "</g>\n",
       "</svg>\n"
      ],
      "text/plain": [
       "<twosigma.memento.dependency_graph.DependencyGraph at 0x7fe5ed47bf10>"
      ]
     },
     "execution_count": 16,
     "metadata": {},
     "output_type": "execute_result"
    }
   ],
   "source": [
    "citibike_usage_and_agi_by_zip.dependencies()"
   ]
  },
  {
   "cell_type": "markdown",
   "id": "ced52459-bb32-4bf6-a8f2-20285a473110",
   "metadata": {
    "tags": []
   },
   "source": [
    "## Plot"
   ]
  },
  {
   "cell_type": "code",
   "execution_count": 17,
   "id": "ddcd59f2-6a3d-49a8-9315-42f5e756c6b4",
   "metadata": {
    "tags": []
   },
   "outputs": [],
   "source": [
    "df = citibike_usage_and_agi_by_zip(year=2020)"
   ]
  },
  {
   "cell_type": "code",
   "execution_count": 18,
   "id": "650f954a-5498-4ecc-bafc-d74163526611",
   "metadata": {
    "tags": []
   },
   "outputs": [],
   "source": [
    "sorted_df = df.sort_values(by=\"agi\")"
   ]
  },
  {
   "cell_type": "code",
   "execution_count": 19,
   "id": "53a20991-4698-45d9-8a59-9a2b5045eae5",
   "metadata": {
    "tags": []
   },
   "outputs": [
    {
     "data": {
      "text/html": [
       "<div>\n",
       "<style scoped>\n",
       "    .dataframe tbody tr th:only-of-type {\n",
       "        vertical-align: middle;\n",
       "    }\n",
       "\n",
       "    .dataframe tbody tr th {\n",
       "        vertical-align: top;\n",
       "    }\n",
       "\n",
       "    .dataframe thead th {\n",
       "        text-align: right;\n",
       "    }\n",
       "</style>\n",
       "<table border=\"1\" class=\"dataframe\">\n",
       "  <thead>\n",
       "    <tr style=\"text-align: right;\">\n",
       "      <th></th>\n",
       "      <th>zipcode</th>\n",
       "      <th>citibike_usage</th>\n",
       "      <th>agi</th>\n",
       "    </tr>\n",
       "  </thead>\n",
       "  <tbody>\n",
       "    <tr>\n",
       "      <th>52</th>\n",
       "      <td>10453</td>\n",
       "      <td>3834.0</td>\n",
       "      <td>30212.861510</td>\n",
       "    </tr>\n",
       "    <tr>\n",
       "      <th>56</th>\n",
       "      <td>10457</td>\n",
       "      <td>5217.0</td>\n",
       "      <td>31042.253137</td>\n",
       "    </tr>\n",
       "    <tr>\n",
       "      <th>55</th>\n",
       "      <td>10456</td>\n",
       "      <td>17924.0</td>\n",
       "      <td>31533.869116</td>\n",
       "    </tr>\n",
       "    <tr>\n",
       "      <th>60</th>\n",
       "      <td>10474</td>\n",
       "      <td>615.0</td>\n",
       "      <td>31624.716981</td>\n",
       "    </tr>\n",
       "    <tr>\n",
       "      <th>51</th>\n",
       "      <td>10452</td>\n",
       "      <td>13097.0</td>\n",
       "      <td>31659.843117</td>\n",
       "    </tr>\n",
       "    <tr>\n",
       "      <th>...</th>\n",
       "      <td>...</td>\n",
       "      <td>...</td>\n",
       "      <td>...</td>\n",
       "    </tr>\n",
       "    <tr>\n",
       "      <th>44</th>\n",
       "      <td>10065</td>\n",
       "      <td>258402.0</td>\n",
       "      <td>511061.425577</td>\n",
       "    </tr>\n",
       "    <tr>\n",
       "      <th>45</th>\n",
       "      <td>10069</td>\n",
       "      <td>116495.0</td>\n",
       "      <td>524012.461059</td>\n",
       "    </tr>\n",
       "    <tr>\n",
       "      <th>49</th>\n",
       "      <td>10282</td>\n",
       "      <td>154131.0</td>\n",
       "      <td>633103.517588</td>\n",
       "    </tr>\n",
       "    <tr>\n",
       "      <th>17</th>\n",
       "      <td>10013</td>\n",
       "      <td>356305.0</td>\n",
       "      <td>636092.180775</td>\n",
       "    </tr>\n",
       "    <tr>\n",
       "      <th>12</th>\n",
       "      <td>10007</td>\n",
       "      <td>168953.0</td>\n",
       "      <td>763081.920904</td>\n",
       "    </tr>\n",
       "  </tbody>\n",
       "</table>\n",
       "<p>93 rows × 3 columns</p>\n",
       "</div>"
      ],
      "text/plain": [
       "    zipcode  citibike_usage            agi\n",
       "52    10453          3834.0   30212.861510\n",
       "56    10457          5217.0   31042.253137\n",
       "55    10456         17924.0   31533.869116\n",
       "60    10474           615.0   31624.716981\n",
       "51    10452         13097.0   31659.843117\n",
       "..      ...             ...            ...\n",
       "44    10065        258402.0  511061.425577\n",
       "45    10069        116495.0  524012.461059\n",
       "49    10282        154131.0  633103.517588\n",
       "17    10013        356305.0  636092.180775\n",
       "12    10007        168953.0  763081.920904\n",
       "\n",
       "[93 rows x 3 columns]"
      ]
     },
     "execution_count": 19,
     "metadata": {},
     "output_type": "execute_result"
    }
   ],
   "source": [
    "sorted_df"
   ]
  },
  {
   "cell_type": "code",
   "execution_count": 20,
   "id": "38eef90d-c762-4561-9273-3f0fb766376f",
   "metadata": {
    "tags": []
   },
   "outputs": [
    {
     "data": {
      "image/png": "[encoded data removed]",
      "text/plain": [
       "<Figure size 800x600 with 1 Axes>"
      ]
     },
     "metadata": {},
     "output_type": "display_data"
    }
   ],
   "source": [
    "plt.figure(figsize=(8, 6))\n",
    "x = np.log(sorted_df[\"agi\"])\n",
    "y = sorted_df[\"citibike_usage\"]\n",
    "slope, intercept, r_value, p_value, std_err = stats.linregress(x, y)\n",
    "trend_y = slope * x + intercept\n",
    "plt.xscale('log') \n",
    "plt.scatter(x, y)\n",
    "plt.plot(x, trend_y, color=\"red\")\n",
    "plt.xlabel(\"Mean Adjusted Gross Income (USD) for ZIP Code (log scale)\")\n",
    "plt.ylabel(\"Citibike Trip Starts + Ends\")\n",
    "plt.title(\"ZIP Code Mean Income vs. Citibike Trips with Trendline\")\n",
    "plt.show()"
   ]
  },
  {
   "cell_type": "code",
   "execution_count": 21,
   "id": "6e440644-ca0d-4ae6-8acc-9d88dc7c466c",
   "metadata": {
    "tags": []
   },
   "outputs": [
    {
     "name": "stdout",
     "output_type": "stream",
     "text": [
      "r^2: 0.24\n",
      "p_value: 6.41e-07\n",
      "std_err: 2.58e+04\n"
     ]
    }
   ],
   "source": [
    "print(f\"r^2: {r_value * r_value:0.3}\\np_value: {p_value:0.3}\\nstd_err: {std_err:0.3}\")"
   ]
  },
  {
   "cell_type": "markdown",
   "id": "ae8c02c5-0ffa-4eba-b246-2cc6e3f287a4",
   "metadata": {},
   "source": [
    "There is a weak but statistically significant positive correlation between zip code mean AGI and citibike trips started or ended in that zip code.\n",
    "\n",
    "Citibike usage is statistically higher in neighborhoods with higher incomes, which could indicate that wealthier neighborhoods benefit from Citibike more."
   ]
  }
 ],
 "metadata": {
  "kernelspec": {
   "display_name": "memento",
   "language": "python",
   "name": "memento"
  },
  "language_info": {
   "codemirror_mode": {
    "name": "ipython",
    "version": 3
   },
   "file_extension": ".py",
   "mimetype": "text/x-python",
   "name": "python",
   "nbconvert_exporter": "python",
   "pygments_lexer": "ipython3",
   "version": "3.10.12"
  }
 },
 "nbformat": 4,
 "nbformat_minor": 5
}
