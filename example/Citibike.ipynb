{
 "cells": [
  {
   "cell_type": "markdown",
   "id": "ef4ba8c0-2b1e-4dca-96a9-22ff2173b09f",
   "metadata": {},
   "source": [
    "# Demo: Gross Adjusted Income vs. Citibike Usage Analysis using Memento\n",
    "\n",
    "In 2013, NYC launched its bike sharing program, Citibike, which is now an essential part of NYC's transportation infrastructure.\n",
    "\n",
    "Is Citibike equitable? In covered areas, does it benefit individuals in wealthier neighborhoods more than others?\n",
    "\n",
    "This notebook explores the following hypothesis which could be used, in part, to help answer this question. Specifically:\n",
    "\n",
    "<b>Hypothesis: For covered areas, zip codes in NYC with higher median adjusted gross incomes show higher Citi Bike usage (trip starts + trip ends)</b>\n",
    "\n",
    "There are several potential improvements that could be made to this hypothesis if we were conduting real research (e.g. some zip codes are larger than others), but the point of this notebook is to demonstrate how Memento might be used in a realistic research scenario.\n",
    "\n",
    "<b>This is not a scientific analysis and is simply a demonstration of a typical research scenario and how Memento might be used to organize a notebook conducting similar research.</b>\n",
    "\n",
    "<div style=\"font-size: 6pt;\"><b>Disclaimer:</b>\n",
    "<p>This document is being distributed for informational and educational purposes only and is not an offer to sell or the solicitation of an offer to buy any securities or other instruments. The information contained herein is not intended to provide, and should not be relied upon for, investment advice. The views expressed herein are not necessarily the views of Two Sigma Investments, LP or any of its affiliates (collectively, “Two Sigma”). Such views reflect the assumptions of the author(s) of the document and are subject to change without notice. The document may employ data derived from third-party sources. No representation is made by Two Sigma as to the accuracy of such information and the use of such information in no way implies an endorsement of the source of such information or its validity.</p>\n",
    "\n",
    "<p>The copyrights and/or trademarks in some of the images, logos or other material used herein may be owned by entities other than Two Sigma. If so, such copyrights and/or trademarks are most likely owned by the entity that created the material and are used purely for identification and comment as fair use under international copyright and/or trademark laws. Use of such image, copyright or trademark does not imply any association with such organization (or endorsement of such organization) by Two Sigma, nor vice versa.</p>\n",
    "</div>"
   ]
  },
  {
   "cell_type": "markdown",
   "id": "6dfa4249-f92e-4bb5-9494-ff7818ea7ef6",
   "metadata": {
    "tags": []
   },
   "source": [
    "## Init and Imports"
   ]
  },
  {
   "cell_type": "code",
   "execution_count": 1,
   "id": "d72cca6a-6276-4672-9508-c7537d709fa0",
   "metadata": {
    "tags": []
   },
   "outputs": [
    {
     "name": "stdout",
     "output_type": "stream",
     "text": [
      "Requirement already satisfied: boto3 in /mnt/c/Users/markr/data/projects/twosigma/memento/venv/lib/python3.10/site-packages (1.34.74)\n",
      "Requirement already satisfied: matplotlib in /mnt/c/Users/markr/data/projects/twosigma/memento/venv/lib/python3.10/site-packages (3.8.3)\n",
      "Requirement already satisfied: geopy in /mnt/c/Users/markr/data/projects/twosigma/memento/venv/lib/python3.10/site-packages (2.4.1)\n",
      "Requirement already satisfied: scipy in /mnt/c/Users/markr/data/projects/twosigma/memento/venv/lib/python3.10/site-packages (1.12.0)\n",
      "Requirement already satisfied: twosigma.memento in /mnt/c/Users/markr/data/projects/twosigma/memento/venv/lib/python3.10/site-packages (0.28.1)\n",
      "Requirement already satisfied: ipywidgets in /mnt/c/Users/markr/data/projects/twosigma/memento/venv/lib/python3.10/site-packages (8.1.2)\n",
      "Requirement already satisfied: s3transfer<0.11.0,>=0.10.0 in /mnt/c/Users/markr/data/projects/twosigma/memento/venv/lib/python3.10/site-packages (from boto3) (0.10.1)\n",
      "Requirement already satisfied: botocore<1.35.0,>=1.34.74 in /mnt/c/Users/markr/data/projects/twosigma/memento/venv/lib/python3.10/site-packages (from boto3) (1.34.74)\n",
      "Requirement already satisfied: jmespath<2.0.0,>=0.7.1 in /mnt/c/Users/markr/data/projects/twosigma/memento/venv/lib/python3.10/site-packages (from boto3) (1.0.1)\n",
      "Requirement already satisfied: numpy<2,>=1.21 in /mnt/c/Users/markr/data/projects/twosigma/memento/venv/lib/python3.10/site-packages (from matplotlib) (1.26.4)\n",
      "Requirement already satisfied: kiwisolver>=1.3.1 in /mnt/c/Users/markr/data/projects/twosigma/memento/venv/lib/python3.10/site-packages (from matplotlib) (1.4.5)\n",
      "Requirement already satisfied: fonttools>=4.22.0 in /mnt/c/Users/markr/data/projects/twosigma/memento/venv/lib/python3.10/site-packages (from matplotlib) (4.50.0)\n",
      "Requirement already satisfied: python-dateutil>=2.7 in /mnt/c/Users/markr/data/projects/twosigma/memento/venv/lib/python3.10/site-packages (from matplotlib) (2.9.0.post0)\n",
      "Requirement already satisfied: packaging>=20.0 in /mnt/c/Users/markr/data/projects/twosigma/memento/venv/lib/python3.10/site-packages (from matplotlib) (24.0)\n",
      "Requirement already satisfied: pillow>=8 in /mnt/c/Users/markr/data/projects/twosigma/memento/venv/lib/python3.10/site-packages (from matplotlib) (10.2.0)\n",
      "Requirement already satisfied: contourpy>=1.0.1 in /mnt/c/Users/markr/data/projects/twosigma/memento/venv/lib/python3.10/site-packages (from matplotlib) (1.2.0)\n",
      "Requirement already satisfied: pyparsing>=2.3.1 in /mnt/c/Users/markr/data/projects/twosigma/memento/venv/lib/python3.10/site-packages (from matplotlib) (3.1.2)\n",
      "Requirement already satisfied: cycler>=0.10 in /mnt/c/Users/markr/data/projects/twosigma/memento/venv/lib/python3.10/site-packages (from matplotlib) (0.12.1)\n",
      "Requirement already satisfied: geographiclib<3,>=1.52 in /mnt/c/Users/markr/data/projects/twosigma/memento/venv/lib/python3.10/site-packages (from geopy) (2.0)\n",
      "Requirement already satisfied: pyyaml>=3.13 in /mnt/c/Users/markr/data/projects/twosigma/memento/venv/lib/python3.10/site-packages (from twosigma.memento) (6.0.1)\n",
      "Requirement already satisfied: pandas>=1.0.5 in /mnt/c/Users/markr/data/projects/twosigma/memento/venv/lib/python3.10/site-packages (from twosigma.memento) (2.2.1)\n",
      "Requirement already satisfied: graphviz>=0.13 in /mnt/c/Users/markr/data/projects/twosigma/memento/venv/lib/python3.10/site-packages (from twosigma.memento) (0.20.3)\n",
      "Requirement already satisfied: pytz>=2020.1 in /mnt/c/Users/markr/data/projects/twosigma/memento/venv/lib/python3.10/site-packages (from twosigma.memento) (2024.1)\n",
      "Requirement already satisfied: tqdm>=4.31.1 in /mnt/c/Users/markr/data/projects/twosigma/memento/venv/lib/python3.10/site-packages (from twosigma.memento) (4.66.2)\n",
      "Requirement already satisfied: jinja2>=3.1.3 in /mnt/c/Users/markr/data/projects/twosigma/memento/venv/lib/python3.10/site-packages (from twosigma.memento) (3.1.3)\n",
      "Requirement already satisfied: widgetsnbextension~=4.0.10 in /mnt/c/Users/markr/data/projects/twosigma/memento/venv/lib/python3.10/site-packages (from ipywidgets) (4.0.10)\n",
      "Requirement already satisfied: ipython>=6.1.0 in /mnt/c/Users/markr/data/projects/twosigma/memento/venv/lib/python3.10/site-packages (from ipywidgets) (8.23.0)\n",
      "Requirement already satisfied: comm>=0.1.3 in /mnt/c/Users/markr/data/projects/twosigma/memento/venv/lib/python3.10/site-packages (from ipywidgets) (0.2.2)\n",
      "Requirement already satisfied: jupyterlab-widgets~=3.0.10 in /mnt/c/Users/markr/data/projects/twosigma/memento/venv/lib/python3.10/site-packages (from ipywidgets) (3.0.10)\n",
      "Requirement already satisfied: traitlets>=4.3.1 in /mnt/c/Users/markr/data/projects/twosigma/memento/venv/lib/python3.10/site-packages (from ipywidgets) (5.14.2)\n",
      "Requirement already satisfied: urllib3!=2.2.0,<3,>=1.25.4 in /mnt/c/Users/markr/data/projects/twosigma/memento/venv/lib/python3.10/site-packages (from botocore<1.35.0,>=1.34.74->boto3) (2.2.1)\n",
      "Requirement already satisfied: pexpect>4.3 in /mnt/c/Users/markr/data/projects/twosigma/memento/venv/lib/python3.10/site-packages (from ipython>=6.1.0->ipywidgets) (4.9.0)\n",
      "Requirement already satisfied: matplotlib-inline in /mnt/c/Users/markr/data/projects/twosigma/memento/venv/lib/python3.10/site-packages (from ipython>=6.1.0->ipywidgets) (0.1.6)\n",
      "Requirement already satisfied: typing-extensions in /mnt/c/Users/markr/data/projects/twosigma/memento/venv/lib/python3.10/site-packages (from ipython>=6.1.0->ipywidgets) (4.10.0)\n",
      "Requirement already satisfied: pygments>=2.4.0 in /mnt/c/Users/markr/data/projects/twosigma/memento/venv/lib/python3.10/site-packages (from ipython>=6.1.0->ipywidgets) (2.17.2)\n",
      "Requirement already satisfied: decorator in /mnt/c/Users/markr/data/projects/twosigma/memento/venv/lib/python3.10/site-packages (from ipython>=6.1.0->ipywidgets) (5.1.1)\n",
      "Requirement already satisfied: jedi>=0.16 in /mnt/c/Users/markr/data/projects/twosigma/memento/venv/lib/python3.10/site-packages (from ipython>=6.1.0->ipywidgets) (0.19.1)\n",
      "Requirement already satisfied: prompt-toolkit<3.1.0,>=3.0.41 in /mnt/c/Users/markr/data/projects/twosigma/memento/venv/lib/python3.10/site-packages (from ipython>=6.1.0->ipywidgets) (3.0.43)\n",
      "Requirement already satisfied: exceptiongroup in /mnt/c/Users/markr/data/projects/twosigma/memento/venv/lib/python3.10/site-packages (from ipython>=6.1.0->ipywidgets) (1.2.0)\n",
      "Requirement already satisfied: stack-data in /mnt/c/Users/markr/data/projects/twosigma/memento/venv/lib/python3.10/site-packages (from ipython>=6.1.0->ipywidgets) (0.6.3)\n",
      "Requirement already satisfied: MarkupSafe>=2.0 in /mnt/c/Users/markr/data/projects/twosigma/memento/venv/lib/python3.10/site-packages (from jinja2>=3.1.3->twosigma.memento) (2.1.5)\n",
      "Requirement already satisfied: tzdata>=2022.7 in /mnt/c/Users/markr/data/projects/twosigma/memento/venv/lib/python3.10/site-packages (from pandas>=1.0.5->twosigma.memento) (2024.1)\n",
      "Requirement already satisfied: six>=1.5 in /mnt/c/Users/markr/data/projects/twosigma/memento/venv/lib/python3.10/site-packages (from python-dateutil>=2.7->matplotlib) (1.16.0)\n",
      "Requirement already satisfied: parso<0.9.0,>=0.8.3 in /mnt/c/Users/markr/data/projects/twosigma/memento/venv/lib/python3.10/site-packages (from jedi>=0.16->ipython>=6.1.0->ipywidgets) (0.8.3)\n",
      "Requirement already satisfied: ptyprocess>=0.5 in /mnt/c/Users/markr/data/projects/twosigma/memento/venv/lib/python3.10/site-packages (from pexpect>4.3->ipython>=6.1.0->ipywidgets) (0.7.0)\n",
      "Requirement already satisfied: wcwidth in /mnt/c/Users/markr/data/projects/twosigma/memento/venv/lib/python3.10/site-packages (from prompt-toolkit<3.1.0,>=3.0.41->ipython>=6.1.0->ipywidgets) (0.2.13)\n",
      "Requirement already satisfied: asttokens>=2.1.0 in /mnt/c/Users/markr/data/projects/twosigma/memento/venv/lib/python3.10/site-packages (from stack-data->ipython>=6.1.0->ipywidgets) (2.4.1)\n",
      "Requirement already satisfied: executing>=1.2.0 in /mnt/c/Users/markr/data/projects/twosigma/memento/venv/lib/python3.10/site-packages (from stack-data->ipython>=6.1.0->ipywidgets) (2.0.1)\n",
      "Requirement already satisfied: pure-eval in /mnt/c/Users/markr/data/projects/twosigma/memento/venv/lib/python3.10/site-packages (from stack-data->ipython>=6.1.0->ipywidgets) (0.2.2)\n"
     ]
    }
   ],
   "source": [
    "# sudo apt-get install graphviz\n",
    "!pip install boto3 matplotlib geopy scipy twosigma.memento ipywidgets"
   ]
  },
  {
   "cell_type": "code",
   "execution_count": 2,
   "id": "3abfdc86-14e3-4b40-a460-b9607b7e030a",
   "metadata": {
    "tags": []
   },
   "outputs": [],
   "source": [
    "from twosigma.memento import memento_function\n",
    "import boto3\n",
    "import botocore\n",
    "import botocore.client\n",
    "from io import BytesIO, StringIO\n",
    "import zipfile\n",
    "import pandas as pd\n",
    "import matplotlib\n",
    "import requests\n",
    "from geopy.geocoders import Nominatim\n",
    "import matplotlib.pyplot as plt\n",
    "from scipy import stats\n",
    "import numpy as np"
   ]
  },
  {
   "cell_type": "markdown",
   "id": "a9af39a1-229a-4538-89a5-640d6d41317b",
   "metadata": {
    "tags": []
   },
   "source": [
    "## Citibike Trip Data"
   ]
  },
  {
   "cell_type": "code",
   "execution_count": 3,
   "id": "3ba02267-2f7d-4fed-9868-d3b3a073f0b9",
   "metadata": {
    "tags": []
   },
   "outputs": [],
   "source": [
    "@memento_function\n",
    "def ingest_citibike(year: int):\n",
    "    bucket = \"tripdata\"\n",
    "    s3_client = boto3.client(\"s3\", config=botocore.client.Config(signature_version=botocore.UNSIGNED))\n",
    "    zip_filename = f\"{year}-citibike-tripdata.zip\"\n",
    "    response = s3_client.get_object(Bucket=bucket, Key=zip_filename)\n",
    "    object_data = response['Body'].read()\n",
    "    return object_data"
   ]
  },
  {
   "cell_type": "code",
   "execution_count": 4,
   "id": "dabae2f4-2662-4879-be95-67a40f850d3a",
   "metadata": {
    "tags": []
   },
   "outputs": [],
   "source": [
    "def list_citibike_csvs(zip: zipfile.ZipFile) -> list[str]:\n",
    "    return sorted([file for file in zip.namelist() if file.endswith(\"_1.csv\")], key=lambda f: f[f.rindex(\"/\")+1:])"
   ]
  },
  {
   "cell_type": "code",
   "execution_count": 5,
   "id": "100b9534-359b-41c2-a5f7-4fc18f9d1c21",
   "metadata": {
    "tags": []
   },
   "outputs": [],
   "source": [
    "@memento_function\n",
    "def citibike_tripdata_csv(year: int, month: int) -> str:\n",
    "    yyyymm = f\"{year}{month:02}\"\n",
    "    data = ingest_citibike(year)\n",
    "    zip = zipfile.ZipFile(BytesIO(data))\n",
    "    name_list = list_citibike_csvs(zip)\n",
    "    names_for_month = [name for name in name_list if yyyymm in name]\n",
    "    if len(names_for_month) >= 1:\n",
    "        name = names_for_month[0]\n",
    "        with zip.open(name) as f:\n",
    "            return f.read().decode(\"utf-8\")\n",
    "    else:\n",
    "        return None\n"
   ]
  },
  {
   "cell_type": "code",
   "execution_count": 6,
   "id": "d4d88f7c-45f1-4837-b83a-627842ef9d12",
   "metadata": {
    "tags": []
   },
   "outputs": [],
   "source": [
    "@memento_function\n",
    "def normalize_citibike_tripdata(year: int, month: int = None) -> pd.DataFrame:\n",
    "    if month is None:\n",
    "        all_dfs = [normalize_citibike_tripdata(year, m) for m in range(1, 13)]\n",
    "        all_dfs = [df for df in all_dfs if df is not None]\n",
    "        return pd.concat(all_dfs)\n",
    "    else:\n",
    "        return pd.read_csv(StringIO(citibike_tripdata_csv(year, month)))"
   ]
  },
  {
   "cell_type": "code",
   "execution_count": 7,
   "id": "b7fba306-4b7a-4dba-ad17-8e0d7101dc96",
   "metadata": {
    "tags": []
   },
   "outputs": [],
   "source": [
    "@memento_function\n",
    "def zip_by_lat_long(lat: float, long: float) -> int:\n",
    "  geolocator = Nominatim(user_agent=\"twosigma_memento_example\")\n",
    "  location = geolocator.reverse((lat, long))\n",
    "  if location.raw.get('address', {}).get('postcode'):\n",
    "    return location.raw['address']['postcode']\n",
    "  else:\n",
    "    return None"
   ]
  },
  {
   "cell_type": "code",
   "execution_count": 8,
   "id": "6ddbac5a-2375-428f-8b6d-78db6180f5c5",
   "metadata": {
    "tags": []
   },
   "outputs": [],
   "source": [
    "@memento_function\n",
    "def start_usage(year: int) -> pd.DataFrame:\n",
    "    df = normalize_citibike_tripdata(2020)\n",
    "    df = df \\\n",
    "        .groupby(\"start station id\") \\\n",
    "        .agg(\n",
    "            count=(\"start station id\", \"size\"),\n",
    "            lat=(\"start station latitude\", \"first\"),\n",
    "            long=(\"start station longitude\", \"first\")\n",
    "        ) \\\n",
    "        .reset_index() \\\n",
    "        .drop(\"start station id\", axis=1)\n",
    "    \n",
    "    # df is now (count, lat, long). Look up zip code\n",
    "    df[\"zipcode\"] = df.apply(lambda row: zip_by_lat_long(row[\"lat\"], row[\"long\"]), axis=1)\n",
    "    return df\n",
    "\n",
    "\n",
    "@memento_function\n",
    "def end_usage(year: int) -> pd.DataFrame:\n",
    "    df = normalize_citibike_tripdata(2020)\n",
    "    df = df \\\n",
    "        .groupby(\"end station id\") \\\n",
    "        .agg(\n",
    "            count=(\"end station id\", \"size\"),\n",
    "            lat=(\"end station latitude\", \"first\"),\n",
    "            long=(\"end station longitude\", \"first\")\n",
    "        ) \\\n",
    "        .reset_index() \\\n",
    "        .drop(\"end station id\", axis=1)\n",
    "    \n",
    "    # df is now (count, lat, long). Look up zip code\n",
    "    df[\"zipcode\"] = df.apply(lambda row: zip_by_lat_long(row[\"lat\"], row[\"long\"]), axis=1)\n",
    "    return df\n"
   ]
  },
  {
   "cell_type": "code",
   "execution_count": 9,
   "id": "624eb259-621f-4819-b925-13d009f913ed",
   "metadata": {
    "tags": []
   },
   "outputs": [],
   "source": [
    "@memento_function\n",
    "def citibike_activity_by_zip(year: int) -> pd.DataFrame:\n",
    "    \"\"\"Rides that started or ended in each zip code, over the course of the year\"\"\"\n",
    "    df_start = start_usage(year)\n",
    "    df_end = end_usage(year)\n",
    "    d1 = df_start.drop([\"lat\", \"long\"], axis=1).groupby(\"zipcode\").sum().reset_index()\n",
    "    d2 = df_end.drop([\"lat\", \"long\"], axis=1).groupby(\"zipcode\").sum().reset_index()\n",
    "    d3 = d1.set_index(\"zipcode\").add(d2.set_index(\"zipcode\"), fill_value=0).reset_index()\n",
    "    d3[\"zipcode\"] = d3[\"zipcode\"].astype(int)\n",
    "    return d3"
   ]
  },
  {
   "cell_type": "code",
   "execution_count": 10,
   "id": "65a60690-226d-4dcf-9a03-94fc991e55e5",
   "metadata": {
    "tags": []
   },
   "outputs": [
    {
     "data": {
      "text/html": [
       "<?xml version=\"1.0\" encoding=\"UTF-8\" standalone=\"no\"?>\n",
       "<!DOCTYPE svg PUBLIC \"-//W3C//DTD SVG 1.1//EN\"\n",
       " \"http://www.w3.org/Graphics/SVG/1.1/DTD/svg11.dtd\">\n",
       "<!-- Generated by graphviz version 2.43.0 (0)\n",
       " -->\n",
       "<!-- Title: %3 Pages: 1 -->\n",
       "<svg width=\"268pt\" height=\"332pt\"\n",
       " viewBox=\"0.00 0.00 267.50 332.00\" xmlns=\"http://www.w3.org/2000/svg\" xmlns:xlink=\"http://www.w3.org/1999/xlink\">\n",
       "<g id=\"graph0\" class=\"graph\" transform=\"scale(1 1) rotate(0) translate(4 328)\">\n",
       "<title>%3</title>\n",
       "<polygon fill=\"white\" stroke=\"transparent\" points=\"-4,4 -4,-328 263.5,-328 263.5,4 -4,4\"/>\n",
       "<!-- e1cd35ee -->\n",
       "<g id=\"node1\" class=\"node\">\n",
       "<title>e1cd35ee</title>\n",
       "<polygon fill=\"none\" stroke=\"black\" points=\"209,-36 78,-36 78,0 209,0 209,-36\"/>\n",
       "<text text-anchor=\"start\" x=\"86\" y=\"-15.5\" font-family=\"Helvetica,sans-Serif\" font-size=\"10.00\">citibike_activity_by_zip</text>\n",
       "</g>\n",
       "<!-- 7f68612d -->\n",
       "<g id=\"node2\" class=\"node\">\n",
       "<title>7f68612d</title>\n",
       "<polygon fill=\"none\" stroke=\"black\" points=\"133,-108 64,-108 64,-72 133,-72 133,-108\"/>\n",
       "<text text-anchor=\"start\" x=\"72\" y=\"-87.5\" font-family=\"Helvetica,sans-Serif\" font-size=\"10.00\">end_usage</text>\n",
       "</g>\n",
       "<!-- e1cd35ee&#45;&gt;7f68612d -->\n",
       "<g id=\"edge1\" class=\"edge\">\n",
       "<title>e1cd35ee&#45;&gt;7f68612d</title>\n",
       "<path fill=\"none\" stroke=\"black\" d=\"M132.38,-36.3C127.14,-44.44 120.8,-54.31 115.02,-63.3\"/>\n",
       "<polygon fill=\"black\" stroke=\"black\" points=\"111.96,-61.59 109.5,-71.9 117.85,-65.38 111.96,-61.59\"/>\n",
       "</g>\n",
       "<!-- ccc846ef -->\n",
       "<g id=\"node3\" class=\"node\">\n",
       "<title>ccc846ef</title>\n",
       "<polygon fill=\"none\" stroke=\"black\" points=\"225.5,-108 151.5,-108 151.5,-72 225.5,-72 225.5,-108\"/>\n",
       "<text text-anchor=\"start\" x=\"159.5\" y=\"-87.5\" font-family=\"Helvetica,sans-Serif\" font-size=\"10.00\">start_usage</text>\n",
       "</g>\n",
       "<!-- e1cd35ee&#45;&gt;ccc846ef -->\n",
       "<g id=\"edge2\" class=\"edge\">\n",
       "<title>e1cd35ee&#45;&gt;ccc846ef</title>\n",
       "<path fill=\"none\" stroke=\"black\" d=\"M154.62,-36.3C159.86,-44.44 166.2,-54.31 171.98,-63.3\"/>\n",
       "<polygon fill=\"black\" stroke=\"black\" points=\"169.15,-65.38 177.5,-71.9 175.04,-61.59 169.15,-65.38\"/>\n",
       "</g>\n",
       "<!-- 2c30b248 -->\n",
       "<g id=\"node4\" class=\"node\">\n",
       "<title>2c30b248</title>\n",
       "<polygon fill=\"none\" stroke=\"black\" points=\"149,-180 0,-180 0,-144 149,-144 149,-180\"/>\n",
       "<text text-anchor=\"start\" x=\"8\" y=\"-159.5\" font-family=\"Helvetica,sans-Serif\" font-size=\"10.00\">normalize_citibike_tripdata</text>\n",
       "</g>\n",
       "<!-- 7f68612d&#45;&gt;2c30b248 -->\n",
       "<g id=\"edge3\" class=\"edge\">\n",
       "<title>7f68612d&#45;&gt;2c30b248</title>\n",
       "<path fill=\"none\" stroke=\"black\" d=\"M92.57,-108.3C89.89,-116.1 86.67,-125.49 83.7,-134.17\"/>\n",
       "<polygon fill=\"black\" stroke=\"black\" points=\"80.3,-133.3 80.36,-143.9 86.92,-135.57 80.3,-133.3\"/>\n",
       "</g>\n",
       "<!-- 93592f4d -->\n",
       "<g id=\"node5\" class=\"node\">\n",
       "<title>93592f4d</title>\n",
       "<polygon fill=\"none\" stroke=\"black\" points=\"259.5,-180 167.5,-180 167.5,-144 259.5,-144 259.5,-180\"/>\n",
       "<text text-anchor=\"start\" x=\"175.5\" y=\"-159.5\" font-family=\"Helvetica,sans-Serif\" font-size=\"10.00\">zip_by_lat_long</text>\n",
       "</g>\n",
       "<!-- 7f68612d&#45;&gt;93592f4d -->\n",
       "<g id=\"edge4\" class=\"edge\">\n",
       "<title>7f68612d&#45;&gt;93592f4d</title>\n",
       "<path fill=\"none\" stroke=\"black\" d=\"M126.63,-108.12C141.67,-117.28 160.37,-128.66 176.56,-138.52\"/>\n",
       "<polygon fill=\"black\" stroke=\"black\" points=\"174.9,-141.6 185.26,-143.81 178.54,-135.62 174.9,-141.6\"/>\n",
       "</g>\n",
       "<!-- ccc846ef&#45;&gt;2c30b248 -->\n",
       "<g id=\"edge7\" class=\"edge\">\n",
       "<title>ccc846ef&#45;&gt;2c30b248</title>\n",
       "<path fill=\"none\" stroke=\"black\" d=\"M160.61,-108.12C145.71,-117.28 127.17,-128.66 111.12,-138.52\"/>\n",
       "<polygon fill=\"black\" stroke=\"black\" points=\"109.19,-135.59 102.49,-143.81 112.85,-141.56 109.19,-135.59\"/>\n",
       "</g>\n",
       "<!-- ccc846ef&#45;&gt;93592f4d -->\n",
       "<g id=\"edge8\" class=\"edge\">\n",
       "<title>ccc846ef&#45;&gt;93592f4d</title>\n",
       "<path fill=\"none\" stroke=\"black\" d=\"M194.68,-108.3C197.5,-116.19 200.89,-125.7 204.02,-134.45\"/>\n",
       "<polygon fill=\"black\" stroke=\"black\" points=\"200.73,-135.66 207.39,-143.9 207.32,-133.3 200.73,-135.66\"/>\n",
       "</g>\n",
       "<!-- 1ed63db4 -->\n",
       "<g id=\"node6\" class=\"node\">\n",
       "<title>1ed63db4</title>\n",
       "<polygon fill=\"none\" stroke=\"black\" points=\"133,-252 16,-252 16,-216 133,-216 133,-252\"/>\n",
       "<text text-anchor=\"start\" x=\"24\" y=\"-231.5\" font-family=\"Helvetica,sans-Serif\" font-size=\"10.00\">citibike_tripdata_csv</text>\n",
       "</g>\n",
       "<!-- 2c30b248&#45;&gt;1ed63db4 -->\n",
       "<g id=\"edge5\" class=\"edge\">\n",
       "<title>2c30b248&#45;&gt;1ed63db4</title>\n",
       "<path fill=\"none\" stroke=\"black\" d=\"M74.5,-180.3C74.5,-188.02 74.5,-197.29 74.5,-205.89\"/>\n",
       "<polygon fill=\"black\" stroke=\"black\" points=\"71,-205.9 74.5,-215.9 78,-205.9 71,-205.9\"/>\n",
       "</g>\n",
       "<!-- 2d9f38ea -->\n",
       "<g id=\"node7\" class=\"node\">\n",
       "<title>2d9f38ea</title>\n",
       "<polygon fill=\"none\" stroke=\"black\" points=\"118,-324 31,-324 31,-288 118,-288 118,-324\"/>\n",
       "<text text-anchor=\"start\" x=\"39\" y=\"-303.5\" font-family=\"Helvetica,sans-Serif\" font-size=\"10.00\">ingest_citibike</text>\n",
       "</g>\n",
       "<!-- 1ed63db4&#45;&gt;2d9f38ea -->\n",
       "<g id=\"edge6\" class=\"edge\">\n",
       "<title>1ed63db4&#45;&gt;2d9f38ea</title>\n",
       "<path fill=\"none\" stroke=\"black\" d=\"M74.5,-252.3C74.5,-260.02 74.5,-269.29 74.5,-277.89\"/>\n",
       "<polygon fill=\"black\" stroke=\"black\" points=\"71,-277.9 74.5,-287.9 78,-277.9 71,-277.9\"/>\n",
       "</g>\n",
       "</g>\n",
       "</svg>\n"
      ],
      "text/plain": [
       "<twosigma.memento.dependency_graph.DependencyGraph at 0x7ff6321ccb50>"
      ]
     },
     "execution_count": 10,
     "metadata": {},
     "output_type": "execute_result"
    }
   ],
   "source": [
    "citibike_activity_by_zip.dependencies()"
   ]
  },
  {
   "cell_type": "markdown",
   "id": "2867e3ad-794b-4eac-9054-6647eeadec6f",
   "metadata": {
    "tags": []
   },
   "source": [
    "## IRS Data by Zip Code"
   ]
  },
  {
   "cell_type": "code",
   "execution_count": 11,
   "id": "a413e29e-15a6-4f04-b67c-727f81611b72",
   "metadata": {
    "tags": []
   },
   "outputs": [],
   "source": [
    "@memento_function\n",
    "def ingest_irs_gov_zip(year: int) -> bytes:\n",
    "    url = f\"https://www.irs.gov/pub/irs-soi/{year-2000}zpallnoagi.csv\"\n",
    "    response = requests.get(url)\n",
    "    return response.content"
   ]
  },
  {
   "cell_type": "code",
   "execution_count": 12,
   "id": "c5d813cd-9782-48ea-88b6-a21ad954a4a9",
   "metadata": {
    "tags": []
   },
   "outputs": [],
   "source": [
    "@memento_function\n",
    "def normalize_irs_gov_zip(year: int) -> pd.DataFrame:\n",
    "    data = ingest_irs_gov_zip(year)\n",
    "    csv = data.decode(\"utf-8\")\n",
    "    df = pd.read_csv(StringIO(csv))\n",
    "    df.columns = [col.lower() for col in df.columns]\n",
    "    return df"
   ]
  },
  {
   "cell_type": "code",
   "execution_count": 13,
   "id": "313bf04e-6656-4c83-9661-18524c9be083",
   "metadata": {
    "tags": []
   },
   "outputs": [],
   "source": [
    "@memento_function\n",
    "def irs_agi_per_person_by_zip(year: int) -> pd.DataFrame:\n",
    "    \"\"\"Compute mean AGI per person in each ZIP\"\"\"\n",
    "    df = normalize_irs_gov_zip(year)\n",
    "    # (a00100: AGI, n1: count)\n",
    "    df[\"agi\"] = df[\"a00100\"] * 1000.0 / df[\"n1\"]\n",
    "    return df[[\"zipcode\", \"agi\"]]"
   ]
  },
  {
   "cell_type": "code",
   "execution_count": 14,
   "id": "10904a66-d5a2-4b0d-b7bf-915f3af94cf5",
   "metadata": {
    "tags": []
   },
   "outputs": [
    {
     "data": {
      "text/html": [
       "<?xml version=\"1.0\" encoding=\"UTF-8\" standalone=\"no\"?>\n",
       "<!DOCTYPE svg PUBLIC \"-//W3C//DTD SVG 1.1//EN\"\n",
       " \"http://www.w3.org/Graphics/SVG/1.1/DTD/svg11.dtd\">\n",
       "<!-- Generated by graphviz version 2.43.0 (0)\n",
       " -->\n",
       "<!-- Title: %3 Pages: 1 -->\n",
       "<svg width=\"153pt\" height=\"188pt\"\n",
       " viewBox=\"0.00 0.00 153.00 188.00\" xmlns=\"http://www.w3.org/2000/svg\" xmlns:xlink=\"http://www.w3.org/1999/xlink\">\n",
       "<g id=\"graph0\" class=\"graph\" transform=\"scale(1 1) rotate(0) translate(4 184)\">\n",
       "<title>%3</title>\n",
       "<polygon fill=\"white\" stroke=\"transparent\" points=\"-4,4 -4,-184 149,-184 149,4 -4,4\"/>\n",
       "<!-- 2cf646b3 -->\n",
       "<g id=\"node1\" class=\"node\">\n",
       "<title>2cf646b3</title>\n",
       "<polygon fill=\"none\" stroke=\"black\" points=\"145,-36 0,-36 0,0 145,0 145,-36\"/>\n",
       "<text text-anchor=\"start\" x=\"8\" y=\"-15.5\" font-family=\"Helvetica,sans-Serif\" font-size=\"10.00\">irs_agi_per_person_by_zip</text>\n",
       "</g>\n",
       "<!-- 01594205 -->\n",
       "<g id=\"node2\" class=\"node\">\n",
       "<title>01594205</title>\n",
       "<polygon fill=\"none\" stroke=\"black\" points=\"135,-108 10,-108 10,-72 135,-72 135,-108\"/>\n",
       "<text text-anchor=\"start\" x=\"18\" y=\"-87.5\" font-family=\"Helvetica,sans-Serif\" font-size=\"10.00\">normalize_irs_gov_zip</text>\n",
       "</g>\n",
       "<!-- 2cf646b3&#45;&gt;01594205 -->\n",
       "<g id=\"edge1\" class=\"edge\">\n",
       "<title>2cf646b3&#45;&gt;01594205</title>\n",
       "<path fill=\"none\" stroke=\"black\" d=\"M72.5,-36.3C72.5,-44.02 72.5,-53.29 72.5,-61.89\"/>\n",
       "<polygon fill=\"black\" stroke=\"black\" points=\"69,-61.9 72.5,-71.9 76,-61.9 69,-61.9\"/>\n",
       "</g>\n",
       "<!-- fc7ceed1 -->\n",
       "<g id=\"node3\" class=\"node\">\n",
       "<title>fc7ceed1</title>\n",
       "<polygon fill=\"none\" stroke=\"black\" points=\"126,-180 19,-180 19,-144 126,-144 126,-180\"/>\n",
       "<text text-anchor=\"start\" x=\"27\" y=\"-159.5\" font-family=\"Helvetica,sans-Serif\" font-size=\"10.00\">ingest_irs_gov_zip</text>\n",
       "</g>\n",
       "<!-- 01594205&#45;&gt;fc7ceed1 -->\n",
       "<g id=\"edge2\" class=\"edge\">\n",
       "<title>01594205&#45;&gt;fc7ceed1</title>\n",
       "<path fill=\"none\" stroke=\"black\" d=\"M72.5,-108.3C72.5,-116.02 72.5,-125.29 72.5,-133.89\"/>\n",
       "<polygon fill=\"black\" stroke=\"black\" points=\"69,-133.9 72.5,-143.9 76,-133.9 69,-133.9\"/>\n",
       "</g>\n",
       "</g>\n",
       "</svg>\n"
      ],
      "text/plain": [
       "<twosigma.memento.dependency_graph.DependencyGraph at 0x7ff63220ffd0>"
      ]
     },
     "execution_count": 14,
     "metadata": {},
     "output_type": "execute_result"
    }
   ],
   "source": [
    "irs_agi_per_person_by_zip.dependencies()"
   ]
  },
  {
   "cell_type": "markdown",
   "id": "464c8390-88e0-48c2-b021-3679d6f5403e",
   "metadata": {
    "tags": []
   },
   "source": [
    "## Join"
   ]
  },
  {
   "cell_type": "code",
   "execution_count": 15,
   "id": "edad20e6-3382-4483-850f-3872cc997685",
   "metadata": {
    "tags": []
   },
   "outputs": [],
   "source": [
    "@memento_function\n",
    "def citibike_usage_and_agi_by_zip(year: int) -> pd.DataFrame:\n",
    "    df_citibike = citibike_activity_by_zip(2020)    \n",
    "    df_irs = irs_agi_per_person_by_zip(2020)\n",
    "    df = df_citibike.rename(columns={\"count\": \"citibike_usage\"}).merge(df_irs, on=\"zipcode\", how=\"inner\")\n",
    "    return df"
   ]
  },
  {
   "cell_type": "code",
   "execution_count": 16,
   "id": "da6b1631-f5aa-4d3e-9c79-c162f570771e",
   "metadata": {
    "tags": []
   },
   "outputs": [
    {
     "data": {
      "text/html": [
       "<?xml version=\"1.0\" encoding=\"UTF-8\" standalone=\"no\"?>\n",
       "<!DOCTYPE svg PUBLIC \"-//W3C//DTD SVG 1.1//EN\"\n",
       " \"http://www.w3.org/Graphics/SVG/1.1/DTD/svg11.dtd\">\n",
       "<!-- Generated by graphviz version 2.43.0 (0)\n",
       " -->\n",
       "<!-- Title: %3 Pages: 1 -->\n",
       "<svg width=\"431pt\" height=\"404pt\"\n",
       " viewBox=\"0.00 0.00 431.00 404.00\" xmlns=\"http://www.w3.org/2000/svg\" xmlns:xlink=\"http://www.w3.org/1999/xlink\">\n",
       "<g id=\"graph0\" class=\"graph\" transform=\"scale(1 1) rotate(0) translate(4 400)\">\n",
       "<title>%3</title>\n",
       "<polygon fill=\"white\" stroke=\"transparent\" points=\"-4,4 -4,-400 427,-400 427,4 -4,4\"/>\n",
       "<!-- 2ea77d09 -->\n",
       "<g id=\"node1\" class=\"node\">\n",
       "<title>2ea77d09</title>\n",
       "<polygon fill=\"none\" stroke=\"black\" points=\"234,-36 67,-36 67,0 234,0 234,-36\"/>\n",
       "<text text-anchor=\"start\" x=\"75\" y=\"-15.5\" font-family=\"Helvetica,sans-Serif\" font-size=\"10.00\">citibike_usage_and_agi_by_zip</text>\n",
       "</g>\n",
       "<!-- 2cf646b3 -->\n",
       "<g id=\"node2\" class=\"node\">\n",
       "<title>2cf646b3</title>\n",
       "<polygon fill=\"none\" stroke=\"black\" points=\"145,-108 0,-108 0,-72 145,-72 145,-108\"/>\n",
       "<text text-anchor=\"start\" x=\"8\" y=\"-87.5\" font-family=\"Helvetica,sans-Serif\" font-size=\"10.00\">irs_agi_per_person_by_zip</text>\n",
       "</g>\n",
       "<!-- 2ea77d09&#45;&gt;2cf646b3 -->\n",
       "<g id=\"edge1\" class=\"edge\">\n",
       "<title>2ea77d09&#45;&gt;2cf646b3</title>\n",
       "<path fill=\"none\" stroke=\"black\" d=\"M131.22,-36.3C121.58,-44.95 109.77,-55.55 99.27,-64.97\"/>\n",
       "<polygon fill=\"black\" stroke=\"black\" points=\"96.66,-62.61 91.56,-71.9 101.34,-67.82 96.66,-62.61\"/>\n",
       "</g>\n",
       "<!-- e1cd35ee -->\n",
       "<g id=\"node3\" class=\"node\">\n",
       "<title>e1cd35ee</title>\n",
       "<polygon fill=\"none\" stroke=\"black\" points=\"294,-108 163,-108 163,-72 294,-72 294,-108\"/>\n",
       "<text text-anchor=\"start\" x=\"171\" y=\"-87.5\" font-family=\"Helvetica,sans-Serif\" font-size=\"10.00\">citibike_activity_by_zip</text>\n",
       "</g>\n",
       "<!-- 2ea77d09&#45;&gt;e1cd35ee -->\n",
       "<g id=\"edge2\" class=\"edge\">\n",
       "<title>2ea77d09&#45;&gt;e1cd35ee</title>\n",
       "<path fill=\"none\" stroke=\"black\" d=\"M169.78,-36.3C179.42,-44.95 191.23,-55.55 201.73,-64.97\"/>\n",
       "<polygon fill=\"black\" stroke=\"black\" points=\"199.66,-67.82 209.44,-71.9 204.34,-62.61 199.66,-67.82\"/>\n",
       "</g>\n",
       "<!-- 01594205 -->\n",
       "<g id=\"node10\" class=\"node\">\n",
       "<title>01594205</title>\n",
       "<polygon fill=\"none\" stroke=\"black\" points=\"135,-180 10,-180 10,-144 135,-144 135,-180\"/>\n",
       "<text text-anchor=\"start\" x=\"18\" y=\"-159.5\" font-family=\"Helvetica,sans-Serif\" font-size=\"10.00\">normalize_irs_gov_zip</text>\n",
       "</g>\n",
       "<!-- 2cf646b3&#45;&gt;01594205 -->\n",
       "<g id=\"edge11\" class=\"edge\">\n",
       "<title>2cf646b3&#45;&gt;01594205</title>\n",
       "<path fill=\"none\" stroke=\"black\" d=\"M72.5,-108.3C72.5,-116.02 72.5,-125.29 72.5,-133.89\"/>\n",
       "<polygon fill=\"black\" stroke=\"black\" points=\"69,-133.9 72.5,-143.9 76,-133.9 69,-133.9\"/>\n",
       "</g>\n",
       "<!-- 7f68612d -->\n",
       "<g id=\"node4\" class=\"node\">\n",
       "<title>7f68612d</title>\n",
       "<polygon fill=\"none\" stroke=\"black\" points=\"253,-180 184,-180 184,-144 253,-144 253,-180\"/>\n",
       "<text text-anchor=\"start\" x=\"192\" y=\"-159.5\" font-family=\"Helvetica,sans-Serif\" font-size=\"10.00\">end_usage</text>\n",
       "</g>\n",
       "<!-- e1cd35ee&#45;&gt;7f68612d -->\n",
       "<g id=\"edge3\" class=\"edge\">\n",
       "<title>e1cd35ee&#45;&gt;7f68612d</title>\n",
       "<path fill=\"none\" stroke=\"black\" d=\"M226.03,-108.3C224.93,-116.02 223.6,-125.29 222.37,-133.89\"/>\n",
       "<polygon fill=\"black\" stroke=\"black\" points=\"218.89,-133.5 220.94,-143.9 225.82,-134.49 218.89,-133.5\"/>\n",
       "</g>\n",
       "<!-- ccc846ef -->\n",
       "<g id=\"node5\" class=\"node\">\n",
       "<title>ccc846ef</title>\n",
       "<polygon fill=\"none\" stroke=\"black\" points=\"345.5,-180 271.5,-180 271.5,-144 345.5,-144 345.5,-180\"/>\n",
       "<text text-anchor=\"start\" x=\"279.5\" y=\"-159.5\" font-family=\"Helvetica,sans-Serif\" font-size=\"10.00\">start_usage</text>\n",
       "</g>\n",
       "<!-- e1cd35ee&#45;&gt;ccc846ef -->\n",
       "<g id=\"edge4\" class=\"edge\">\n",
       "<title>e1cd35ee&#45;&gt;ccc846ef</title>\n",
       "<path fill=\"none\" stroke=\"black\" d=\"M248.28,-108.3C258.25,-117.03 270.51,-127.76 281.36,-137.25\"/>\n",
       "<polygon fill=\"black\" stroke=\"black\" points=\"279.12,-139.94 288.95,-143.9 283.73,-134.68 279.12,-139.94\"/>\n",
       "</g>\n",
       "<!-- 2c30b248 -->\n",
       "<g id=\"node6\" class=\"node\">\n",
       "<title>2c30b248</title>\n",
       "<polygon fill=\"none\" stroke=\"black\" points=\"423,-252 274,-252 274,-216 423,-216 423,-252\"/>\n",
       "<text text-anchor=\"start\" x=\"282\" y=\"-231.5\" font-family=\"Helvetica,sans-Serif\" font-size=\"10.00\">normalize_citibike_tripdata</text>\n",
       "</g>\n",
       "<!-- 7f68612d&#45;&gt;2c30b248 -->\n",
       "<g id=\"edge5\" class=\"edge\">\n",
       "<title>7f68612d&#45;&gt;2c30b248</title>\n",
       "<path fill=\"none\" stroke=\"black\" d=\"M250.3,-180.12C267.61,-189.45 289.22,-201.08 307.76,-211.06\"/>\n",
       "<polygon fill=\"black\" stroke=\"black\" points=\"306.11,-214.15 316.58,-215.81 309.43,-207.99 306.11,-214.15\"/>\n",
       "</g>\n",
       "<!-- 93592f4d -->\n",
       "<g id=\"node7\" class=\"node\">\n",
       "<title>93592f4d</title>\n",
       "<polygon fill=\"none\" stroke=\"black\" points=\"255.5,-252 163.5,-252 163.5,-216 255.5,-216 255.5,-252\"/>\n",
       "<text text-anchor=\"start\" x=\"171.5\" y=\"-231.5\" font-family=\"Helvetica,sans-Serif\" font-size=\"10.00\">zip_by_lat_long</text>\n",
       "</g>\n",
       "<!-- 7f68612d&#45;&gt;93592f4d -->\n",
       "<g id=\"edge6\" class=\"edge\">\n",
       "<title>7f68612d&#45;&gt;93592f4d</title>\n",
       "<path fill=\"none\" stroke=\"black\" d=\"M216.28,-180.3C215.28,-188.02 214.09,-197.29 212.99,-205.89\"/>\n",
       "<polygon fill=\"black\" stroke=\"black\" points=\"209.5,-205.53 211.7,-215.9 216.45,-206.42 209.5,-205.53\"/>\n",
       "</g>\n",
       "<!-- ccc846ef&#45;&gt;2c30b248 -->\n",
       "<g id=\"edge9\" class=\"edge\">\n",
       "<title>ccc846ef&#45;&gt;2c30b248</title>\n",
       "<path fill=\"none\" stroke=\"black\" d=\"M318.39,-180.3C322.99,-188.36 328.56,-198.11 333.65,-207.02\"/>\n",
       "<polygon fill=\"black\" stroke=\"black\" points=\"330.73,-208.95 338.73,-215.9 336.8,-205.48 330.73,-208.95\"/>\n",
       "</g>\n",
       "<!-- ccc846ef&#45;&gt;93592f4d -->\n",
       "<g id=\"edge10\" class=\"edge\">\n",
       "<title>ccc846ef&#45;&gt;93592f4d</title>\n",
       "<path fill=\"none\" stroke=\"black\" d=\"M284.28,-180.12C271.58,-189.11 255.84,-200.24 242.08,-209.97\"/>\n",
       "<polygon fill=\"black\" stroke=\"black\" points=\"239.96,-207.18 233.81,-215.81 244,-212.89 239.96,-207.18\"/>\n",
       "</g>\n",
       "<!-- 1ed63db4 -->\n",
       "<g id=\"node8\" class=\"node\">\n",
       "<title>1ed63db4</title>\n",
       "<polygon fill=\"none\" stroke=\"black\" points=\"407,-324 290,-324 290,-288 407,-288 407,-324\"/>\n",
       "<text text-anchor=\"start\" x=\"298\" y=\"-303.5\" font-family=\"Helvetica,sans-Serif\" font-size=\"10.00\">citibike_tripdata_csv</text>\n",
       "</g>\n",
       "<!-- 2c30b248&#45;&gt;1ed63db4 -->\n",
       "<g id=\"edge7\" class=\"edge\">\n",
       "<title>2c30b248&#45;&gt;1ed63db4</title>\n",
       "<path fill=\"none\" stroke=\"black\" d=\"M348.5,-252.3C348.5,-260.02 348.5,-269.29 348.5,-277.89\"/>\n",
       "<polygon fill=\"black\" stroke=\"black\" points=\"345,-277.9 348.5,-287.9 352,-277.9 345,-277.9\"/>\n",
       "</g>\n",
       "<!-- 2d9f38ea -->\n",
       "<g id=\"node9\" class=\"node\">\n",
       "<title>2d9f38ea</title>\n",
       "<polygon fill=\"none\" stroke=\"black\" points=\"392,-396 305,-396 305,-360 392,-360 392,-396\"/>\n",
       "<text text-anchor=\"start\" x=\"313\" y=\"-375.5\" font-family=\"Helvetica,sans-Serif\" font-size=\"10.00\">ingest_citibike</text>\n",
       "</g>\n",
       "<!-- 1ed63db4&#45;&gt;2d9f38ea -->\n",
       "<g id=\"edge8\" class=\"edge\">\n",
       "<title>1ed63db4&#45;&gt;2d9f38ea</title>\n",
       "<path fill=\"none\" stroke=\"black\" d=\"M348.5,-324.3C348.5,-332.02 348.5,-341.29 348.5,-349.89\"/>\n",
       "<polygon fill=\"black\" stroke=\"black\" points=\"345,-349.9 348.5,-359.9 352,-349.9 345,-349.9\"/>\n",
       "</g>\n",
       "<!-- fc7ceed1 -->\n",
       "<g id=\"node11\" class=\"node\">\n",
       "<title>fc7ceed1</title>\n",
       "<polygon fill=\"none\" stroke=\"black\" points=\"126,-252 19,-252 19,-216 126,-216 126,-252\"/>\n",
       "<text text-anchor=\"start\" x=\"27\" y=\"-231.5\" font-family=\"Helvetica,sans-Serif\" font-size=\"10.00\">ingest_irs_gov_zip</text>\n",
       "</g>\n",
       "<!-- 01594205&#45;&gt;fc7ceed1 -->\n",
       "<g id=\"edge12\" class=\"edge\">\n",
       "<title>01594205&#45;&gt;fc7ceed1</title>\n",
       "<path fill=\"none\" stroke=\"black\" d=\"M72.5,-180.3C72.5,-188.02 72.5,-197.29 72.5,-205.89\"/>\n",
       "<polygon fill=\"black\" stroke=\"black\" points=\"69,-205.9 72.5,-215.9 76,-205.9 69,-205.9\"/>\n",
       "</g>\n",
       "</g>\n",
       "</svg>\n"
      ],
      "text/plain": [
       "<twosigma.memento.dependency_graph.DependencyGraph at 0x7ff63220d750>"
      ]
     },
     "execution_count": 16,
     "metadata": {},
     "output_type": "execute_result"
    }
   ],
   "source": [
    "citibike_usage_and_agi_by_zip.dependencies()"
   ]
  },
  {
   "cell_type": "markdown",
   "id": "ced52459-bb32-4bf6-a8f2-20285a473110",
   "metadata": {
    "tags": []
   },
   "source": [
    "## Plot"
   ]
  },
  {
   "cell_type": "code",
   "execution_count": 17,
   "id": "ddcd59f2-6a3d-49a8-9315-42f5e756c6b4",
   "metadata": {
    "tags": []
   },
   "outputs": [],
   "source": [
    "# Takes about 15 minutes\n",
    "df = citibike_usage_and_agi_by_zip(year=2020)"
   ]
  },
  {
   "cell_type": "code",
   "execution_count": 18,
   "id": "650f954a-5498-4ecc-bafc-d74163526611",
   "metadata": {
    "tags": []
   },
   "outputs": [],
   "source": [
    "sorted_df = df.sort_values(by=\"agi\")"
   ]
  },
  {
   "cell_type": "code",
   "execution_count": 19,
   "id": "53a20991-4698-45d9-8a59-9a2b5045eae5",
   "metadata": {
    "tags": []
   },
   "outputs": [
    {
     "data": {
      "text/html": [
       "<div>\n",
       "<style scoped>\n",
       "    .dataframe tbody tr th:only-of-type {\n",
       "        vertical-align: middle;\n",
       "    }\n",
       "\n",
       "    .dataframe tbody tr th {\n",
       "        vertical-align: top;\n",
       "    }\n",
       "\n",
       "    .dataframe thead th {\n",
       "        text-align: right;\n",
       "    }\n",
       "</style>\n",
       "<table border=\"1\" class=\"dataframe\">\n",
       "  <thead>\n",
       "    <tr style=\"text-align: right;\">\n",
       "      <th></th>\n",
       "      <th>zipcode</th>\n",
       "      <th>citibike_usage</th>\n",
       "      <th>agi</th>\n",
       "    </tr>\n",
       "  </thead>\n",
       "  <tbody>\n",
       "    <tr>\n",
       "      <th>52</th>\n",
       "      <td>10453</td>\n",
       "      <td>3834.0</td>\n",
       "      <td>30212.861510</td>\n",
       "    </tr>\n",
       "    <tr>\n",
       "      <th>56</th>\n",
       "      <td>10457</td>\n",
       "      <td>5217.0</td>\n",
       "      <td>31042.253137</td>\n",
       "    </tr>\n",
       "    <tr>\n",
       "      <th>55</th>\n",
       "      <td>10456</td>\n",
       "      <td>17924.0</td>\n",
       "      <td>31533.869116</td>\n",
       "    </tr>\n",
       "    <tr>\n",
       "      <th>60</th>\n",
       "      <td>10474</td>\n",
       "      <td>615.0</td>\n",
       "      <td>31624.716981</td>\n",
       "    </tr>\n",
       "    <tr>\n",
       "      <th>51</th>\n",
       "      <td>10452</td>\n",
       "      <td>13097.0</td>\n",
       "      <td>31659.843117</td>\n",
       "    </tr>\n",
       "    <tr>\n",
       "      <th>...</th>\n",
       "      <td>...</td>\n",
       "      <td>...</td>\n",
       "      <td>...</td>\n",
       "    </tr>\n",
       "    <tr>\n",
       "      <th>44</th>\n",
       "      <td>10065</td>\n",
       "      <td>258402.0</td>\n",
       "      <td>511061.425577</td>\n",
       "    </tr>\n",
       "    <tr>\n",
       "      <th>45</th>\n",
       "      <td>10069</td>\n",
       "      <td>116495.0</td>\n",
       "      <td>524012.461059</td>\n",
       "    </tr>\n",
       "    <tr>\n",
       "      <th>49</th>\n",
       "      <td>10282</td>\n",
       "      <td>154131.0</td>\n",
       "      <td>633103.517588</td>\n",
       "    </tr>\n",
       "    <tr>\n",
       "      <th>17</th>\n",
       "      <td>10013</td>\n",
       "      <td>356305.0</td>\n",
       "      <td>636092.180775</td>\n",
       "    </tr>\n",
       "    <tr>\n",
       "      <th>12</th>\n",
       "      <td>10007</td>\n",
       "      <td>168953.0</td>\n",
       "      <td>763081.920904</td>\n",
       "    </tr>\n",
       "  </tbody>\n",
       "</table>\n",
       "<p>93 rows × 3 columns</p>\n",
       "</div>"
      ],
      "text/plain": [
       "    zipcode  citibike_usage            agi\n",
       "52    10453          3834.0   30212.861510\n",
       "56    10457          5217.0   31042.253137\n",
       "55    10456         17924.0   31533.869116\n",
       "60    10474           615.0   31624.716981\n",
       "51    10452         13097.0   31659.843117\n",
       "..      ...             ...            ...\n",
       "44    10065        258402.0  511061.425577\n",
       "45    10069        116495.0  524012.461059\n",
       "49    10282        154131.0  633103.517588\n",
       "17    10013        356305.0  636092.180775\n",
       "12    10007        168953.0  763081.920904\n",
       "\n",
       "[93 rows x 3 columns]"
      ]
     },
     "execution_count": 19,
     "metadata": {},
     "output_type": "execute_result"
    }
   ],
   "source": [
    "sorted_df"
   ]
  },
  {
   "cell_type": "code",
   "execution_count": 20,
   "id": "38eef90d-c762-4561-9273-3f0fb766376f",
   "metadata": {
    "tags": []
   },
   "outputs": [
    {
     "data": {
      "image/png": "[encoded data removed]",
      "text/plain": [
       "<Figure size 800x600 with 1 Axes>"
      ]
     },
     "metadata": {},
     "output_type": "display_data"
    }
   ],
   "source": [
    "plt.figure(figsize=(8, 6))\n",
    "x = np.log(sorted_df[\"agi\"])\n",
    "y = sorted_df[\"citibike_usage\"]\n",
    "slope, intercept, r_value, p_value, std_err = stats.linregress(x, y)\n",
    "trend_y = slope * x + intercept\n",
    "plt.xscale('log') \n",
    "plt.scatter(x, y)\n",
    "plt.plot(x, trend_y, color=\"red\")\n",
    "plt.xlabel(\"Mean Adjusted Gross Income (USD) for ZIP Code (log scale)\")\n",
    "plt.ylabel(\"Citibike Trip Starts + Ends\")\n",
    "plt.title(\"ZIP Code Mean Income vs. Citibike Trips with Trendline\")\n",
    "plt.show()"
   ]
  },
  {
   "cell_type": "code",
   "execution_count": 21,
   "id": "6e440644-ca0d-4ae6-8acc-9d88dc7c466c",
   "metadata": {
    "tags": []
   },
   "outputs": [
    {
     "name": "stdout",
     "output_type": "stream",
     "text": [
      "r^2: 0.239\n",
      "p_value: 6.71e-07\n",
      "std_err: 2.59e+04\n"
     ]
    }
   ],
   "source": [
    "print(f\"r^2: {r_value * r_value:0.3}\\np_value: {p_value:0.3}\\nstd_err: {std_err:0.3}\")"
   ]
  },
  {
   "cell_type": "markdown",
   "id": "ae8c02c5-0ffa-4eba-b246-2cc6e3f287a4",
   "metadata": {},
   "source": [
    "There is a weak but statistically significant positive correlation between zip code mean AGI and citibike trips started or ended in that zip code.\n",
    "\n",
    "Citibike usage is statistically higher in neighborhoods with higher incomes, which could indicate that wealthier neighborhoods benefit from Citibike more."
   ]
  }
 ],
 "metadata": {
  "kernelspec": {
   "display_name": "Python 3 (ipykernel)",
   "language": "python",
   "name": "python3"
  },
  "language_info": {
   "codemirror_mode": {
    "name": "ipython",
    "version": 3
   },
   "file_extension": ".py",
   "mimetype": "text/x-python",
   "name": "python",
   "nbconvert_exporter": "python",
   "pygments_lexer": "ipython3",
   "version": "3.10.12"
  }
 },
 "nbformat": 4,
 "nbformat_minor": 5
}
